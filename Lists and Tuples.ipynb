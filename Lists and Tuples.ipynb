{
 "cells": [
  {
   "cell_type": "markdown",
   "metadata": {},
   "source": [
    "# 10 Lists and Tuples"
   ]
  },
  {
   "cell_type": "markdown",
   "metadata": {},
   "source": [
    "File(s) Needed: numbers.txt"
   ]
  },
  {
   "cell_type": "markdown",
   "metadata": {},
   "source": [
    "## Sequences\n",
    "A type of data structure we have not yet discussed is the sequence. A **sequence** is an object that holds multiple items of data. Two fundamental sequences in Python are **lists** and **tuples**. \n",
    "\n",
    "The primary difference between a list and a tuple is simple. A list is **mutable** (it can change) and a tuple is **immutable** (it can't change). Most of the operations they perform are the same. We'll spend most of our time using lists but you should keep in mind that just about everything we do applies to tuples, too. At the end of this material we'll cover the differences and why both are needed."
   ]
  },
  {
   "cell_type": "markdown",
   "metadata": {},
   "source": [
    "## Lists\n",
    "A list can hold data of the same type or of different types. Each item in a list is called an _**element**_. If you are familiar with another programming language, it is similar to an array. Not _exactly_ the same as an array, but the differences are technical in nature and don't make any difference as far as we are concerned.\n",
    "\n",
    "We can create a list by assigning elements inside square brackets [] to the list name. List names follow the same rules as variable names.\n",
    "\n",
    "As examples, enter these lists in the cell below. The first one is done for you.\n",
    "```\n",
    "student_numbers = [12345, 23456, 34567, 45678, 56789, 67890]\n",
    "movies = ['Scarface', 'The Blob', 'Star Wars', 'Heidi']\n",
    "employee = [693, 'John Cleese', 89500.00]\n",
    "```"
   ]
  },
  {
   "cell_type": "code",
   "execution_count": 2,
   "metadata": {},
   "outputs": [],
   "source": [
    "# Create lists\n",
    "student_numbers = [12345, 23456, 34567, 45678, 56789, 67890]\n",
    "movies = ['Scarface', 'The Blob', 'Star Wars', 'Heidi']\n",
    "employee = [693, 'John Cleese', 89500.00]"
   ]
  },
  {
   "cell_type": "code",
   "execution_count": null,
   "metadata": {},
   "outputs": [],
   "source": [
    "# Use print() on each if the lists, e.g. `print(movies)`.\n"
   ]
  },
  {
   "cell_type": "markdown",
   "metadata": {},
   "source": [
    "There is a `list()` function built into Python that can convert a `range()` iterable into a list."
   ]
  },
  {
   "cell_type": "code",
   "execution_count": null,
   "metadata": {},
   "outputs": [],
   "source": [
    "# run this cell\n",
    "fives = list(range(5, 101, 5)\n",
    "print(fives)\n"
   ]
  },
  {
   "cell_type": "markdown",
   "metadata": {},
   "source": [
    "We can also create a new list using the repetition operator `*` to copy an existing list the number of times after the `*`. "
   ]
  },
  {
   "cell_type": "code",
   "execution_count": null,
   "metadata": {},
   "outputs": [],
   "source": [
    "more_fives = fives * 3\n",
    "print(more_fives)\n"
   ]
  },
  {
   "cell_type": "markdown",
   "metadata": {},
   "source": [
    "### Accessing individual elements\n",
    "Use a `for` loop to iterate through all of the elements in sequence.\n",
    "```\n",
    "for num in student_numbers:\n",
    "\tprint(num)\n",
    "\n",
    "for info in employee:\n",
    "\tprint(info)\n",
    "\n",
    "```\n",
    "Try these loops to see what they do."
   ]
  },
  {
   "cell_type": "code",
   "execution_count": null,
   "metadata": {},
   "outputs": [],
   "source": [
    "# Loop through a list\n"
   ]
  },
  {
   "cell_type": "markdown",
   "metadata": {},
   "source": [
    "We can use indexing to refer to the individual elements in a list. The **index** specifies the position of the desired element in the list, beginning with _the first element at position 0 (zero)_. This is referred to as a **zero-based index** and it will come up often. It is one concept that beginning programmers have a hard time with because it is different than what we are used to.\n",
    "\n",
    "We specify the index inside the square brackets\n",
    "```\n",
    "print(movies[2])\n",
    "```"
   ]
  },
  {
   "cell_type": "code",
   "execution_count": 4,
   "metadata": {},
   "outputs": [
    {
     "name": "stdout",
     "output_type": "stream",
     "text": [
      "Star Wars\n",
      "693\n"
     ]
    }
   ],
   "source": [
    "# print some individual list elements\n",
    "print(movies[2])\n",
    "print(employee[0])"
   ]
  },
  {
   "cell_type": "code",
   "execution_count": 5,
   "metadata": {},
   "outputs": [
    {
     "name": "stdout",
     "output_type": "stream",
     "text": [
      "Star Wars\n"
     ]
    }
   ],
   "source": [
    "# Negative index numbers can be used to identify an element position relative to the end of the list.\n",
    "# See what print(movies[-2]) does.\n",
    "print(movies[-2])"
   ]
  },
  {
   "cell_type": "markdown",
   "metadata": {},
   "source": [
    "Since lists are **mutable**, we can also use the list name and index on the left side of the assignment operator. But anytime we use an index to refer to an element it has to be a valid index for an existing element. If we want to use indexing expressions to create a list you have to create the list first, then assign values.\n",
    "\n",
    "Try this code:\n",
    "```\n",
    "employee[0] = 999\n",
    "print(employee)\n",
    "```"
   ]
  },
  {
   "cell_type": "code",
   "execution_count": null,
   "metadata": {},
   "outputs": [],
   "source": [
    "# print the list, assign a value to element 0, and print the list again\n"
   ]
  },
  {
   "cell_type": "code",
   "execution_count": null,
   "metadata": {},
   "outputs": [],
   "source": [
    "# create a list then assign elements (this is where the repetition operator comes in handy)\n",
    "students = [' '] * 5        # creates an array with 5 elements, each with one blank space in it\n",
    "print(students)\n",
    "\n",
    "students[2] = 'Jimmy'\n",
    "students[0] = 'Sue'\n",
    "print(students)\n"
   ]
  },
  {
   "cell_type": "markdown",
   "metadata": {},
   "source": [
    "We can also concatenate lists to combine them. "
   ]
  },
  {
   "cell_type": "code",
   "execution_count": null,
   "metadata": {},
   "outputs": [],
   "source": [
    "# creates a new list by combining two existing lists\n",
    "faculty_numbers = [98765, 87654, 76543]\n",
    "all_numbers = student_numbers + faculty_numbers\n",
    "print(all_numbers)"
   ]
  },
  {
   "cell_type": "code",
   "execution_count": null,
   "metadata": {},
   "outputs": [],
   "source": [
    "# This changes the first list by concatenating the second one to it.\n",
    "faculty_numbers += movies\n",
    "print(faculty_numbers)\n"
   ]
  },
  {
   "cell_type": "markdown",
   "metadata": {},
   "source": [
    "We can loop through all of the elements with a `while` loop. Remember that a `while` loop tests at the beginning of every trip through it, so you have to make sure the variable being tested changes in the loop."
   ]
  },
  {
   "cell_type": "code",
   "execution_count": null,
   "metadata": {},
   "outputs": [],
   "source": [
    "# looping using while\n",
    "# what happens if we increase the 6 to a larger number?\n",
    "index = 0\n",
    "while index < 6:\n",
    "    print(student_numbers[index])\n",
    "    index += 1\n"
   ]
  },
  {
   "cell_type": "markdown",
   "metadata": {},
   "source": [
    "We can also use the built-in `len()` function to control the loop. The length of the list is the total number of elements."
   ]
  },
  {
   "cell_type": "code",
   "execution_count": null,
   "metadata": {},
   "outputs": [],
   "source": [
    "print(len(student_numbers), '\\n')\n",
    "while index < len(student_numbers):\n",
    "    print(student_numbers[index])\n",
    "    index += 1\n"
   ]
  },
  {
   "cell_type": "markdown",
   "metadata": {},
   "source": [
    "### List slicing\n",
    "Used to select a range of elements from the list. The general form is\n",
    "```\n",
    "list_name[start:end:step value]\n",
    "```\n",
    "\n",
    "This expression will return a list of the elements from teh **start** position up to _but not including_ the **end** position. The step value defaults to 1 but you can use any integer, include negative numbers."
   ]
  },
  {
   "cell_type": "code",
   "execution_count": 34,
   "metadata": {},
   "outputs": [],
   "source": [
    "# run this cell so we can reinitialize the list\n",
    "movies = ['Scarface', 'The Blob', 'Star Wars', 'Heidi', 'It', 'Big', 'Up']"
   ]
  },
  {
   "cell_type": "markdown",
   "metadata": {},
   "source": [
    "#### Examples: slice the list to get the following values. \n",
    "Try to figure out which elements you will get before you run the code.\n",
    "\n",
    "1. start = 2, end = 4\n",
    "2. leave out the start value, end = 3 (so use movies[:3])\n",
    "3. start = 1, leave out the end value\n",
    "4. specify -2 for the start, no end value. What happens there?\n",
    "5. leave out both start and end (but include the colon)\n",
    "6. start = 1, end = 4, step = 2"
   ]
  },
  {
   "cell_type": "code",
   "execution_count": 20,
   "metadata": {},
   "outputs": [
    {
     "name": "stdout",
     "output_type": "stream",
     "text": [
      "['Star Wars', 'Heidi']\n",
      "['Scarface', 'The Blob', 'Star Wars']\n",
      "['The Blob', 'Star Wars', 'Heidi', 'It', 'Big', 'Up']\n"
     ]
    }
   ],
   "source": [
    "# type list slicing examples in this cell\n",
    "print(movies[2:4])\n",
    "print(movies[:3])\n",
    "print(movies[-6:])"
   ]
  },
  {
   "cell_type": "markdown",
   "metadata": {},
   "source": [
    "### The `in` operator\n",
    "If you want to determine if an item is in a list, you can use the `in` operator in an `if` statement. It returns the value `True` or `False`."
   ]
  },
  {
   "cell_type": "code",
   "execution_count": 21,
   "metadata": {},
   "outputs": [
    {
     "name": "stdout",
     "output_type": "stream",
     "text": [
      "Enter a movie name: It\n",
      "Found it!\n"
     ]
    }
   ],
   "source": [
    "# using the in operator\n",
    "search = input('Enter a movie name: ')\n",
    "if search in movies:\n",
    "    print('Found it!')\n",
    "else:\n",
    "    print('Not found')\n"
   ]
  },
  {
   "cell_type": "markdown",
   "metadata": {},
   "source": [
    "## List methods and functions\n",
    "There are many methods that are part of the list object. These are just a few. To see them all, type the name of the list, a period, then hit the Tab button."
   ]
  },
  {
   "cell_type": "code",
   "execution_count": null,
   "metadata": {},
   "outputs": [],
   "source": [
    "# append method – adds a new element to the end of the list\n",
    "movies.append('Spartacus')\n",
    "print(movies)\n"
   ]
  },
  {
   "cell_type": "code",
   "execution_count": null,
   "metadata": {},
   "outputs": [],
   "source": [
    "# index(item) method – returns the index of the first element whose value is equal to item\n",
    "print(movies.index('The Blob'))"
   ]
  },
  {
   "cell_type": "code",
   "execution_count": 22,
   "metadata": {},
   "outputs": [
    {
     "name": "stdout",
     "output_type": "stream",
     "text": [
      "['Scarface', 'The Blob', 'Star Wars', 'Heidi', 'It', 'Big', 'Up']\n",
      "['Get', 'Get Out', 'Scarface', 'The Blob', 'Star Wars', 'Ben', 'It', 'Heidi', 'It', 'Big', 'Up', 'Jaws']\n"
     ]
    }
   ],
   "source": [
    "# insert(index, item) method – inserts a new element at the specified index\n",
    "#   an invalid index beyond the end of the list will add the item to the end\n",
    "#   an invalid negative index adds the item to the beginning of the list\n",
    "print(movies)\n",
    "movies.insert(3, 'Ben')\n",
    "movies.insert(97, 'Jaws')\n",
    "movies.insert(-5, 'It')\n",
    "movies.insert(-42, 'Get Out')\n",
    "movies.insert(-0, 'Get')\n",
    "print(movies)\n"
   ]
  },
  {
   "cell_type": "code",
   "execution_count": 29,
   "metadata": {},
   "outputs": [
    {
     "ename": "AttributeError",
     "evalue": "'builtin_function_or_method' object has no attribute 'reverse'",
     "output_type": "error",
     "traceback": [
      "\u001b[1;31m---------------------------------------------------------------------------\u001b[0m",
      "\u001b[1;31mAttributeError\u001b[0m                            Traceback (most recent call last)",
      "\u001b[1;32m<ipython-input-29-22f183ff3459>\u001b[0m in \u001b[0;36m<module>\u001b[1;34m()\u001b[0m\n\u001b[0;32m      1\u001b[0m \u001b[1;31m# sort() method - sorts the list in ascending order\u001b[0m\u001b[1;33m\u001b[0m\u001b[1;33m\u001b[0m\u001b[0m\n\u001b[1;32m----> 2\u001b[1;33m \u001b[0mmovies\u001b[0m\u001b[1;33m.\u001b[0m\u001b[0msort\u001b[0m\u001b[1;33m.\u001b[0m\u001b[0mreverse\u001b[0m\u001b[1;33m(\u001b[0m\u001b[1;33m)\u001b[0m\u001b[1;33m\u001b[0m\u001b[0m\n\u001b[0m\u001b[0;32m      3\u001b[0m \u001b[0mmovies\u001b[0m\u001b[1;33m\u001b[0m\u001b[0m\n\u001b[0;32m      4\u001b[0m \u001b[1;33m\u001b[0m\u001b[0m\n\u001b[0;32m      5\u001b[0m \u001b[1;31m# reverse() method - reverses the order of the elements in the list\u001b[0m\u001b[1;33m\u001b[0m\u001b[1;33m\u001b[0m\u001b[0m\n",
      "\u001b[1;31mAttributeError\u001b[0m: 'builtin_function_or_method' object has no attribute 'reverse'"
     ]
    }
   ],
   "source": [
    "# sort() method - sorts the list in ascending order\n",
    "movies.sort()\n",
    "movies\n",
    "\n",
    "# reverse() method - reverses the order of the elements in the list\n",
    "# movies.reverse()\n",
    "# movies\n",
    "\n",
    "\n",
    "# How would you sort a list in descending order?"
   ]
  },
  {
   "cell_type": "code",
   "execution_count": null,
   "metadata": {},
   "outputs": [],
   "source": [
    "# remove(item) method - removes just the first occurence of item in the list\n",
    "print(movies)\n",
    "movies.remove('Jaws')\n",
    "print(movies)"
   ]
  },
  {
   "cell_type": "markdown",
   "metadata": {},
   "source": [
    "The previous are all methods of the list object so we access them using dot notation. The following are standalone functions in Python for manipulating lists."
   ]
  },
  {
   "cell_type": "code",
   "execution_count": 30,
   "metadata": {},
   "outputs": [
    {
     "name": "stdout",
     "output_type": "stream",
     "text": [
      "['Up', 'The Blob', 'Star Wars', 'Scarface', 'Jaws', 'It', 'It', 'Heidi', 'Get Out', 'Get', 'Big', 'Ben']\n"
     ]
    },
    {
     "data": {
      "text/plain": [
       "['Up',\n",
       " 'The Blob',\n",
       " 'Scarface',\n",
       " 'Jaws',\n",
       " 'It',\n",
       " 'It',\n",
       " 'Heidi',\n",
       " 'Get Out',\n",
       " 'Get',\n",
       " 'Big',\n",
       " 'Ben']"
      ]
     },
     "execution_count": 30,
     "metadata": {},
     "output_type": "execute_result"
    }
   ],
   "source": [
    "# del function - removes the item at the specified index\n",
    "print(movies)\n",
    "del movies[2]\n",
    "movies"
   ]
  },
  {
   "cell_type": "code",
   "execution_count": 31,
   "metadata": {},
   "outputs": [
    {
     "data": {
      "text/plain": [
       "67890"
      ]
     },
     "execution_count": 31,
     "metadata": {},
     "output_type": "execute_result"
    }
   ],
   "source": [
    "# min and max functions - return the lowest and highest values in the list\n",
    "min(student_numbers)\n",
    "max(student_numbers)"
   ]
  },
  {
   "cell_type": "markdown",
   "metadata": {},
   "source": [
    "### Copying lists"
   ]
  },
  {
   "cell_type": "markdown",
   "metadata": {},
   "source": [
    "When you want to make a copy of a list you have to copy the elements of the list using either the colon notation we used for list slicing or with a loop."
   ]
  },
  {
   "cell_type": "code",
   "execution_count": 35,
   "metadata": {},
   "outputs": [
    {
     "name": "stdout",
     "output_type": "stream",
     "text": [
      "['Scarface', 'The Blob', 'Star Wars', 'Heidi', 'It', 'Big', 'Up']\n"
     ]
    }
   ],
   "source": [
    "# copy the movies list using the colon notation\n",
    "cinema = movies\n",
    "print(cinema)"
   ]
  },
  {
   "cell_type": "code",
   "execution_count": 37,
   "metadata": {},
   "outputs": [
    {
     "name": "stdout",
     "output_type": "stream",
     "text": [
      "['Scarface', 'The Blob', 'Star Wars', 'Heidi', 'It', 'Big', 'Up']\n"
     ]
    }
   ],
   "source": [
    "# copy the movies list using a loop\n",
    "shows = []\n",
    "\n",
    "for item in movies:\n",
    "    shows.append(item)\n",
    "    \n",
    "    \n",
    "print(shows)"
   ]
  },
  {
   "cell_type": "markdown",
   "metadata": {},
   "source": [
    "What happens if you just try to copy the list by assignment?\n",
    "Like\n",
    "```\n",
    "films = movies\n",
    "```\n",
    "Try it and see."
   ]
  },
  {
   "cell_type": "code",
   "execution_count": 41,
   "metadata": {},
   "outputs": [
    {
     "name": "stdout",
     "output_type": "stream",
     "text": [
      "['Scarface', 'The Blob', 'Star Wars', 'Heidi', 'It', 'Big', 'Up', 'Get Out', 'Get Out', 'Get Out']\n",
      "['Scarface', 'The Blob', 'Star Wars', 'Heidi', 'It', 'Big', 'Up', 'Get Out', 'Get Out', 'Get Out']\n",
      "['Scarface', 'The Blob', 'Star Wars', 'Heidi', 'It', 'Big', 'Up', 'Get Out', 'Get Out', 'Get Out', 'Test']\n",
      "['Scarface', 'The Blob', 'Star Wars', 'Heidi', 'It', 'Big', 'Up', 'Get Out', 'Get Out', 'Get Out', 'Get Out']\n"
     ]
    }
   ],
   "source": [
    "# copy by assignment - does it work?\n",
    "films = movies[:]\n",
    "print(films)\n",
    "movies.append('Get Out')\n",
    "print(films)\n",
    "films.append('Test')\n",
    "print(films)\n",
    "print(movies)"
   ]
  },
  {
   "cell_type": "markdown",
   "metadata": {},
   "source": [
    "### Calculating list totals or averages\n",
    "It's simple: use a loop to walk through the list element-by-element to count or accumulate. "
   ]
  },
  {
   "cell_type": "code",
   "execution_count": 3,
   "metadata": {},
   "outputs": [
    {
     "name": "stdout",
     "output_type": "stream",
     "text": [
      "240725 40120.833333333336 6\n"
     ]
    }
   ],
   "source": [
    "# Calculate the average value of the student_numbers list\n",
    "total = 0\n",
    "counter = 0\n",
    "\n",
    "for value in student_numbers:\n",
    "    total += value\n",
    "    counter += 1\n",
    "    \n",
    "average = total / counter\n",
    "print(total, average, counter)"
   ]
  },
  {
   "attachments": {
    "image.png": {
     "image/png": "[encoded data removed]"
    }
   },
   "cell_type": "markdown",
   "metadata": {},
   "source": [
    "## Programming Exercise\n",
    "Design and write a program that asks the user to enter a store's sales for each day of the week (i.e., 7 days total) using the names of the days. The sales amounts and names of the days of the week should be stored in lists. Use a loop for input and to calculate the total sales for the week. Display the results to the screen with the proper formatting. Example input and output is shown below.\n",
    "\n",
    "![image.png](attachment:image.png)"
   ]
  },
  {
   "cell_type": "code",
   "execution_count": 4,
   "metadata": {},
   "outputs": [
    {
     "name": "stdout",
     "output_type": "stream",
     "text": [
      "Enter amount for Monday1\n",
      "Enter amount for Tuesday2\n",
      "Enter amount for Wednesday3\n",
      "Enter amount for Thursday4\n",
      "Enter amount for Firday5\n",
      "Enter amount for Saturday6\n",
      "Enter amount for Sunday7\n",
      "28.0\n"
     ]
    }
   ],
   "source": [
    "# Programming exercise - daily sales\n",
    "day_of_week = ['Monday', 'Tuesday', 'Wednesday', 'Thursday', 'Firday', 'Saturday', 'Sunday']\n",
    "total_sales = 0.0\n",
    "counter = 0\n",
    "daily_sales = [0.0,0.0,0.0,0.0,0.0,0.0,0.0]\n",
    "\n",
    "for item in day_of_week:\n",
    "    value = float(input('Enter amount for ' + day_of_week[counter]))\n",
    "    daily_sales[counter] = (value)\n",
    "    total_sales += daily_sales[counter]\n",
    "    counter += 1\n",
    "   \n",
    "    \n",
    "print(total_sales)"
   ]
  },
  {
   "cell_type": "markdown",
   "metadata": {},
   "source": [
    "## Working with lists and files\n",
    "\n",
    "### Saving list elements to a text file\n",
    "If you want to save list elements to a text file, there are two basic ways to do it. The first is by using the `writelines` method of the output file object. It works fine, with one characteristic that might leave with you with a file that isn't what you want.\n",
    "\n",
    "Run the code below and look at the resulting text file to see what it looks like."
   ]
  },
  {
   "cell_type": "code",
   "execution_count": null,
   "metadata": {},
   "outputs": [],
   "source": [
    "# saving list elements using writelines\n",
    "outfile = open('movies_writelines.txt', 'w')\n",
    "outfile.writelines(movies)\n",
    "outfile.close()\n"
   ]
  },
  {
   "cell_type": "markdown",
   "metadata": {},
   "source": [
    "Another way to do it is to loop through the list while adding newline characters after each element. That will give you a result that is more like what you are probably wanting."
   ]
  },
  {
   "cell_type": "code",
   "execution_count": null,
   "metadata": {},
   "outputs": [],
   "source": [
    "# saving list elements using a for loop and write\n",
    "output = open('movies.txt','w')\n",
    "for item in movies:\n",
    "    output.write(item + '\\n')\n",
    "\n",
    "output.close()\n",
    "\n",
    "# if you are saving numbers, convert them to strings as you write them\n",
    "#results = open('std_num.txt', 'w')\n",
    "\n",
    "#for num in student_numbers:\n",
    "#    results.write(str(num) + '\\n')\n",
    "\n",
    "#results.close()\n"
   ]
  },
  {
   "cell_type": "markdown",
   "metadata": {},
   "source": [
    "### Reading text file contents to a list\n",
    "Use the `readlines()` method. It reads individual lines from the text file directly into list elements. You still have to strip off the newline codes from each line. And you have to convert any numerical values before you can use them as numbers because, as always, they enter the program as strings."
   ]
  },
  {
   "cell_type": "code",
   "execution_count": 6,
   "metadata": {},
   "outputs": [
    {
     "ename": "FileNotFoundError",
     "evalue": "[Errno 2] No such file or directory: 'numbers.txt'",
     "output_type": "error",
     "traceback": [
      "\u001b[1;31m---------------------------------------------------------------------------\u001b[0m",
      "\u001b[1;31mFileNotFoundError\u001b[0m                         Traceback (most recent call last)",
      "\u001b[1;32m<ipython-input-6-9567485292b1>\u001b[0m in \u001b[0;36m<module>\u001b[1;34m()\u001b[0m\n\u001b[0;32m      2\u001b[0m \u001b[1;33m\u001b[0m\u001b[0m\n\u001b[0;32m      3\u001b[0m \u001b[1;31m# Open the file (numbers.txt) you want to read - call the object 'infile'\u001b[0m\u001b[1;33m\u001b[0m\u001b[1;33m\u001b[0m\u001b[0m\n\u001b[1;32m----> 4\u001b[1;33m \u001b[0minfile\u001b[0m \u001b[1;33m=\u001b[0m \u001b[0mopen\u001b[0m\u001b[1;33m(\u001b[0m\u001b[1;34m'numbers.txt'\u001b[0m\u001b[1;33m,\u001b[0m \u001b[1;34m'r'\u001b[0m\u001b[1;33m)\u001b[0m\u001b[1;33m\u001b[0m\u001b[0m\n\u001b[0m\u001b[0;32m      5\u001b[0m \u001b[1;33m\u001b[0m\u001b[0m\n\u001b[0;32m      6\u001b[0m \u001b[1;33m\u001b[0m\u001b[0m\n",
      "\u001b[1;31mFileNotFoundError\u001b[0m: [Errno 2] No such file or directory: 'numbers.txt'"
     ]
    }
   ],
   "source": [
    "# Example: reading file contents into a list\n",
    "\n",
    "# Open the file (numbers.txt) you want to read - call the object 'infile'\n",
    "infile = open('numbers.txt', 'r')\n",
    "\n",
    "\n",
    "# Use readlines() to read the file into a list (result)\n",
    "# and strip the newline codes.\n",
    "results = infile.readlines()\n",
    "\n",
    "# Close the input file\n",
    "infile.close()\n",
    "\n",
    "# Print what the list holds after the read step\n",
    "print(results)\n",
    "\n",
    "# Strip off the newline codes\n",
    "for index in range(0, len(results)):\n",
    "    results[index] results[index].rstrip('\\n')\n",
    "\n",
    "\n",
    "# Print the contents of the list\n",
    "print(results)"
   ]
  },
  {
   "cell_type": "markdown",
   "metadata": {},
   "source": [
    "## Two-dimensional lists\n",
    "The elements of a list can be almost anything. _Including other lists_. Let that sink in for a minute.\n",
    "\n",
    "...\n",
    "\n",
    "Okay, we're back. What that means in Python is that a two-dimensional (2D) list is **a list with other lists as its elements**. That is a little different from other languages & 2D arrays. However, the practicalities are the same.\n",
    "\n",
    "You can think of a 2D list as a table, like in Excel. Each value in the table is described by its row and column. That is relatively easy for most of us to visualize. We do the same thing with a 2D list. If we want to refer to a specific element we use the general form\n",
    "```\n",
    "list_name[row,column]\n",
    "```\n",
    "When we want to assign values to a 2D list, we first create the list and then use nested loops to assignb individual values.\n",
    "\n",
    "We will come back to this topic later.\n"
   ]
  },
  {
   "cell_type": "markdown",
   "metadata": {},
   "source": [
    "## Tuples\n",
    "At the beginning of this notebook we talked about the difference between lists and tuples. What was the main difference? Go ahead, I'll wait for you to scroll to the beginning and then back here.\n",
    "\n",
    "Because of this difference, there are a few things we do differently with tuples. \n",
    "- When we create a tuple we enclose the elements in parentheses, not brackets.\n",
    "```\n",
    "films = ('Carrie', 'Star Trek', 'Borat')\n",
    "```\n",
    "\n",
    "We still use zero-based index numbers to refer to individual elements, and we can loop through all of the elements with a `for` loop like we did with a list.\n",
    "- Tuples have all of the methods a list does **_except the ones that make changes_**. One result of that rule is that _once the tuple has been created you can never have the name of a tuple on the left side of the assignment operator_.\n"
   ]
  },
  {
   "cell_type": "code",
   "execution_count": null,
   "metadata": {},
   "outputs": [],
   "source": [
    "# tuple examples\n",
    "films = ('Carrie', 'Star Trek', 'Borat')\n",
    "print(films[1])"
   ]
  },
  {
   "cell_type": "code",
   "execution_count": null,
   "metadata": {},
   "outputs": [],
   "source": [
    "# tuple looping (say it three times, fast)\n",
    "for name in films:\n",
    "    print(name)"
   ]
  },
  {
   "cell_type": "markdown",
   "metadata": {},
   "source": [
    "### So What?\n",
    "If lists are so great, and tuples and lists are almost the same, why do we need tuples? There are three main reasons:\n",
    "1. Tuples process faster than lists. If you are working on a big data set that can make a difference.\n",
    "2. Tuples are safer than lists because you can't change them.\n",
    "3. Some advanced operations won't work with a list; they require a tuple.\n",
    "\n",
    "We can convert between lists and tuples using two built-in functions. Can you apply your Python experience to guess what they are called?\n",
    "\n",
    "That's right, they are called `list()` and `tuple()`."
   ]
  },
  {
   "cell_type": "code",
   "execution_count": null,
   "metadata": {},
   "outputs": [],
   "source": [
    "# Example: convert between lists and tuples\n",
    "movie_tuple = tuple(movies)\n",
    "print(movie_tuple)"
   ]
  },
  {
   "cell_type": "code",
   "execution_count": null,
   "metadata": {},
   "outputs": [],
   "source": [
    "back_2_list = list(movie_tuple)\n",
    "print(back_2_list)"
   ]
  },
  {
   "cell_type": "code",
   "execution_count": null,
   "metadata": {},
   "outputs": [],
   "source": []
  }
 ],
 "metadata": {
  "kernelspec": {
   "display_name": "Python 3",
   "language": "python",
   "name": "python3"
  }
 },
 "nbformat": 4,
 "nbformat_minor": 2
}

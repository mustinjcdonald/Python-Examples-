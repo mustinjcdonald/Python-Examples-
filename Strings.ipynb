{
 "cells": [
  {
   "cell_type": "markdown",
   "metadata": {},
   "source": [
    "# 12 Strings\n",
    "File(s) needed: Boston_housing_SMALL.csv, gettysburg.txt\n",
    "\n",
    "Strings are a type of sequence, like lists and tuples. Many of the same operations work for them. The `len()` function is one that works on both and is regularly needed."
   ]
  },
  {
   "cell_type": "markdown",
   "metadata": {},
   "source": [
    "You can access the individual characters in a string in two ways: with a loop or an index. "
   ]
  },
  {
   "cell_type": "code",
   "execution_count": null,
   "metadata": {},
   "outputs": [],
   "source": [
    "# Use a for loop to cycle through all of the characters in a string\n",
    "# like elements in a list.\n",
    "name = 'Eric Idle'\n"
   ]
  },
  {
   "cell_type": "code",
   "execution_count": null,
   "metadata": {},
   "outputs": [],
   "source": [
    "# Use indexing to reference each letter, also like a list.\n",
    "# Negative index values work the same way, too.\n",
    "# The len() function is also valid with strings.\n"
   ]
  },
  {
   "cell_type": "markdown",
   "metadata": {},
   "source": [
    "## Concatenation\n",
    "Concatenation is all about combining strings by using the `+` operator. In this case, that is the concatenation operator (not addition operator). \n",
    "\n",
    "We can also use the `+=` augmented assignment operator with strings. It provides a good way to built output or display strings."
   ]
  },
  {
   "cell_type": "code",
   "execution_count": null,
   "metadata": {},
   "outputs": [],
   "source": [
    "# This is a common operation when displaying names.\n"
   ]
  },
  {
   "cell_type": "markdown",
   "metadata": {},
   "source": [
    "Using the `+=` makes it look like you are changing the string, but you are not. **Strings are immutable**. Because of that, you can't use an index on the left side of an assignment operator."
   ]
  },
  {
   "cell_type": "code",
   "execution_count": 5,
   "metadata": {},
   "outputs": [
    {
     "ename": "NameError",
     "evalue": "name 'name' is not defined",
     "output_type": "error",
     "traceback": [
      "\u001b[1;31m---------------------------------------------------------------------------\u001b[0m",
      "\u001b[1;31mNameError\u001b[0m                                 Traceback (most recent call last)",
      "\u001b[1;32m<ipython-input-5-99fba72ec567>\u001b[0m in \u001b[0;36m<module>\u001b[1;34m()\u001b[0m\n\u001b[0;32m      1\u001b[0m \u001b[1;31m# To confirm, see what happens if you try to change a letter in the string.\u001b[0m\u001b[1;33m\u001b[0m\u001b[1;33m\u001b[0m\u001b[0m\n\u001b[1;32m----> 2\u001b[1;33m \u001b[0mname\u001b[0m\u001b[1;33m[\u001b[0m\u001b[1;36m2\u001b[0m\u001b[1;33m]\u001b[0m \u001b[1;33m=\u001b[0m \u001b[1;34m'z'\u001b[0m\u001b[1;33m\u001b[0m\u001b[0m\n\u001b[0m",
      "\u001b[1;31mNameError\u001b[0m: name 'name' is not defined"
     ]
    }
   ],
   "source": [
    "# To confirm, see what happens if you try to change a letter in the string.\n",
    "name[2] = 'z'"
   ]
  },
  {
   "cell_type": "markdown",
   "metadata": {},
   "source": [
    "## String slicing\n",
    "A **slice** is a span of items taken from a sequence, in this case from a string. General form: `string[start:end]` just like lists. The expression returns a string containing a copy of the characters from start up to but not including end.\n",
    "\n",
    "You have all of the same functionality we talked about with lists.\n",
    "- If you leave out the start index Python uses 0.\n",
    "- If you leave out the end index Python goes to the end of the string.\n",
    "- If you specify a negative number for the start index, Python will start that many positions before the end of the string.\n",
    "- If you leave out both start and end (i.e., you just have [:]) the string is copied.\n",
    "- You can also specify a step value to slice nonconsecutive characters.\n"
   ]
  },
  {
   "cell_type": "code",
   "execution_count": null,
   "metadata": {},
   "outputs": [],
   "source": [
    "# String slicing examples\n"
   ]
  },
  {
   "cell_type": "markdown",
   "metadata": {},
   "source": [
    "## Testing and searching strings\n",
    "Use the `in` and `not in` operators to test if one string is found in another."
   ]
  },
  {
   "cell_type": "code",
   "execution_count": 4,
   "metadata": {},
   "outputs": [],
   "source": [
    "# Example using in operator\n",
    "text = 'Your mother was a hamster and your father smelt of elderberries.'\n",
    "\n"
   ]
  },
  {
   "cell_type": "markdown",
   "metadata": {},
   "source": [
    "We can also test strings for various properties using built-in methods. They are methods because _**a string is an object**_, and objects have associated methods included in their definitions.\n",
    "\n",
    "- isdigit() – used to see if a string is just numeric characters\n",
    "- isalnum() – alphabetic letters or numbers\n",
    "- isalpha() – just alphabetic letters\n",
    "- islower() & isupper() – checks the case of alphabetic characters\n"
   ]
  },
  {
   "cell_type": "code",
   "execution_count": null,
   "metadata": {},
   "outputs": [],
   "source": [
    "# example with isdigit()\n"
   ]
  },
  {
   "cell_type": "markdown",
   "metadata": {},
   "source": [
    "There are methods for searching for and replacing parts of strings as well. They are pretty self-explanatory.\n",
    "- endswith(substring)\n",
    "- find(substring)\n",
    "- replace(old, new)\n",
    "- startswith(substring)\n",
    "\n",
    "We can also use the repetition operator (`*`) like we did with lists."
   ]
  },
  {
   "cell_type": "code",
   "execution_count": 3,
   "metadata": {},
   "outputs": [
    {
     "name": "stdout",
     "output_type": "stream",
     "text": [
      "Bears\n",
      "BearsBearsBearsBearsBears\n"
     ]
    }
   ],
   "source": [
    "# Example: repetition operator\n",
    "mascot = 'Bears'\n",
    "print(mascot)\n",
    "print(mascot * 5)\n"
   ]
  },
  {
   "cell_type": "markdown",
   "metadata": {},
   "source": [
    "String modification methods return a copy of the string (because they're immutable) that reflects the desired modification.\n",
    "- lower() and upper() – change the entire string to the specified case\n",
    "- strip() – removes all leading and trailing whitespace\n",
    "- rstrip() & lstrip() – strip the whitespace from the right or left ends respectively\n",
    "- strip(char) – strip all instances of the specified character from both ends.\n",
    "- rstrip(char) & lstrip(char) – strips all instances of the specified character from the right or left ends respectively.\n"
   ]
  },
  {
   "cell_type": "markdown",
   "metadata": {},
   "source": [
    "## Splitting strings\n",
    "Python has a method called `split()` built into the string object type. We can use it to break a string into pieces and store the pieces in a list.\n",
    "\n",
    "The default behavior is to use spaces as the separation point."
   ]
  },
  {
   "cell_type": "code",
   "execution_count": 1,
   "metadata": {},
   "outputs": [
    {
     "name": "stdout",
     "output_type": "stream",
     "text": [
      "['Your', 'mother', 'was', 'a', 'hamster', 'and', 'your', 'father', 'smelt', 'of', 'elderberries.']\n"
     ]
    }
   ],
   "source": [
    "# Example: split on spaces\n",
    "\n",
    "# The text string used before contains multiple words divided by spaces\n",
    "text = 'Your mother was a hamster and your father smelt of elderberries.'\n",
    "\n",
    "# Split the string and store the results in a list\n",
    "words = text.split()\n",
    "\n",
    "# Print the list to the screen.\n",
    "print(words)\n"
   ]
  },
  {
   "cell_type": "markdown",
   "metadata": {},
   "source": [
    "We can also specify a character (or characters) to use as a separator. The forward slash (`/`) is often used in dates, the hyphen (`-`) is used in phone numbers, and the comma (`,`) is used in CSV files. These are not the only possibilities, however. Any valid character(s) we need to use can be designated as a separator."
   ]
  },
  {
   "cell_type": "code",
   "execution_count": null,
   "metadata": {},
   "outputs": [],
   "source": [
    "# Example: splitting date strings\n",
    "date_string = '9/4/1981'\n",
    "\n",
    "# Split the date\n",
    "\n",
    "\n",
    "# Display each part of the date.\n"
   ]
  },
  {
   "cell_type": "code",
   "execution_count": 2,
   "metadata": {},
   "outputs": [
    {
     "name": "stdout",
     "output_type": "stream",
     "text": [
      "['dog', 'cat', 'pig', 'goat', 'llama', 'parrot']\n"
     ]
    }
   ],
   "source": [
    "# Example: splitting text using word as a separator\n",
    "myText = 'dogdudecatdudepigdudegoatdudellamadudeparrot'\n",
    "myList = myText.split('dude')\n",
    "print(myList)"
   ]
  },
  {
   "cell_type": "markdown",
   "metadata": {},
   "source": [
    "## Example\n",
    "\n",
    "Following is an example that combines a couple of these operations to make data from a file readable. It uses a CSV file as input and writes the results to a text file.\n",
    "\n",
    "We will use the comments already in the code as an outline for creating the program.\n",
    "\n",
    "The first thing we should do before writing any code is to look at the data to see what we are working with."
   ]
  },
  {
   "cell_type": "code",
   "execution_count": null,
   "metadata": {},
   "outputs": [],
   "source": [
    "# Example: Splitting strings and cleaning the results using a csv file.\n",
    "# This example uses the file Boston_housing_SMALL.csv as input.\n",
    "\n",
    "# Open source file and result file\n",
    "\n",
    "\n",
    "# Read the first line of data containing the field names.\n",
    "# Use the strip() method to make sure we don't get any\n",
    "#   unwanted white space in the results.\n",
    "\n",
    "\n",
    "\n",
    "# Loop through the list created by the split() method.\n",
    "# Write variable names to the result file.\n",
    "\n",
    "\n",
    "# Loop through the rest of the data, clean it, and write to the result file.\n",
    "\n",
    "\n",
    "# Close the files\n",
    "\n",
    "\n"
   ]
  },
  {
   "cell_type": "markdown",
   "metadata": {},
   "source": [
    "## Programming Exercise\n",
    "Write a program that gets one string from the user containing a person's first, middle, and last names, and then displays their first, middle, and last initials (with periods). For example, if the user enters \"john william smith\" the program should display \"J. W. S.\" You can assume the user types one space between names.\n",
    "\n",
    "##### Add a degree of difficulty\n",
    "Make your code work no matter how many spaces are input."
   ]
  },
  {
   "cell_type": "code",
   "execution_count": 10,
   "metadata": {},
   "outputs": [
    {
     "name": "stdout",
     "output_type": "stream",
     "text": [
      "Please enter your full name:Justin Case McDonald\n",
      "J. C. M.\n"
     ]
    }
   ],
   "source": [
    "name = input(\"Please enter your full name: \")\n",
    "\n",
    "words = name.split()\n",
    "\n",
    "print(\". \".join(word[0] for word in words) + \".\")\n"
   ]
  },
  {
   "cell_type": "markdown",
   "metadata": {},
   "source": [
    "## Programming Exercise\n",
    "Write a program that counts the number of sentences and words in President Lincoln's Gettysburg Address. Also calculate the average number of words per sentence. Display your results to the screen.\n",
    "\n",
    "Use the file gettysburg.txt as input. "
   ]
  },
  {
   "cell_type": "code",
   "execution_count": 40,
   "metadata": {},
   "outputs": [
    {
     "name": "stdout",
     "output_type": "stream",
     "text": [
      "Number of sentences:  10\n",
      "Number of words:  264\n",
      "Average words per sentence:  26.4\n"
     ]
    }
   ],
   "source": [
    "file = open('gettysburg.txt')\n",
    "\n",
    "num_words = 0\n",
    "all_text = file.readline()\n",
    "file.close()\n",
    " \n",
    "sentences = all_text.split('. ')\n",
    "print('Number of sentences: ', len(sentences))\n",
    "\n",
    "for line in sentences:\n",
    "    words = line.split()\n",
    "    num_words += len(words)\n",
    "    \n",
    "print('Number of words: ', num_words)\n",
    "\n",
    "print('Average words per sentence: ', num_words/len(sentences))\n"
   ]
  },
  {
   "cell_type": "code",
   "execution_count": null,
   "metadata": {},
   "outputs": [],
   "source": []
  }
 ],
 "metadata": {
  "kernelspec": {
   "display_name": "Python 3",
   "language": "python",
   "name": "python3"
  },
  "language_info": {
   "codemirror_mode": {
    "name": "ipython",
    "version": 3
   },
   "file_extension": ".py",
   "mimetype": "text/x-python",
   "name": "python",
   "nbconvert_exporter": "python",
   "pygments_lexer": "ipython3",
   "version": "3.6.5"
  }
 },
 "nbformat": 4,
 "nbformat_minor": 2
}

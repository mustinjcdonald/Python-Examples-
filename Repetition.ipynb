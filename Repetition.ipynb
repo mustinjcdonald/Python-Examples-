{
 "cells": [
  {
   "cell_type": "markdown",
   "metadata": {},
   "source": [
    "# 05 Repetition Structures\n",
    "What if you want to perform the same operation on several pieces of data? You could always copy the code the number of times you need to repeat the operation. But what if you have 1000 pieces of data? Or 30,000 pieces? Or millions of pieces of similar data that you need to process? Clearly just copying and pasting the same code won't work there.\n",
    "\n",
    "That is where the repetition structure comes into play. _**Repetition structures**_ cause a set of statements to execute repeatedly. They perform a task that is more commonly known as _**looping**_.\n",
    "\n",
    "There are generally two kinds of loops:\n",
    "- condition controlled: repeats as long as a condition is `True`\n",
    "- count controlled: repeats for a specific number of times"
   ]
  },
  {
   "cell_type": "markdown",
   "metadata": {},
   "source": [
    "## `while` loops\n",
    "\n",
    "The general format of the `while` loop is\n",
    "\n",
    "```\n",
    "while condition:\n",
    "\tstatement\n",
    "\tstatement\n",
    "\tetc.\n",
    "```\n",
    "\n",
    "The `while` loop is a condition controlled loop so it runs as long as the condition is `True`.\n",
    "\n",
    "The while loop is a **pretest loop**, meaning that the condition is tested before the loop is executed. If you want the loop to execute at least once you have to make sure the condition is True before you enter the loop.\n",
    "\n",
    "How it works:\n",
    "- The condition is tested. \n",
    "  - If the condition is `True`, the statements in the loop execute and then return control to the condition test. \n",
    "  - If the condition is `False`, the statements are skipped and execution continues with the line after the loop.\n"
   ]
  },
  {
   "cell_type": "code",
   "execution_count": null,
   "metadata": {},
   "outputs": [],
   "source": [
    "# Example: How long does it take for an investment to reach a target amount?\n",
    "# Input a deposit amount, a target amount, and an annual interest rate.\n",
    "# Calculate how many years it takes to reach the target.\n",
    "deposit = float(input(\"Enter deposit: \"))\n",
    "target = float(input('Enter Target: '))\n",
    "interest_rate = float(input('Enter intrest rate: '))\n",
    "years = 0\n",
    "\n",
    "balance = deposit\n",
    "\n",
    "while balance < target:\n",
    "    balance = balance * (1 + intrest_rate)\n",
    "    years = years + 1\n",
    "    \n",
    "    print(years)\n",
    "\n"
   ]
  },
  {
   "cell_type": "markdown",
   "metadata": {},
   "source": [
    "The `while` loop needs to contain a way to make the test condition False so the loop can be terminated or you will get an **infinite loop**. If it happens to you (and it will), it can be stopped with Ctrl+C."
   ]
  },
  {
   "cell_type": "markdown",
   "metadata": {},
   "source": [
    "## `for` loops\n",
    "The general format of the `for` loop is\n",
    "\n",
    "```\n",
    "for target variable in [value1, value2, etc.]:\n",
    "\tstatement\t\n",
    "\tetc.\n",
    "\n",
    "```\n",
    "The target variable in the `for` clause assumes each value in the list in turn. This is very different from other languages.\n",
    "\n",
    "The value list can be nonconsecutive numbers or strings."
   ]
  },
  {
   "cell_type": "code",
   "execution_count": null,
   "metadata": {},
   "outputs": [],
   "source": [
    "# Example:\n",
    "for item in [1, 2, 15, 9, 4]:\n",
    "    print(item)\n"
   ]
  },
  {
   "cell_type": "markdown",
   "metadata": {},
   "source": [
    "### The `range()` function\n",
    "A built-in function named `range()` makes it easy to control a `for` loop.\n",
    "\n",
    "range() is an iterable (a list of values that can be iterated through) that can have as many as three arguments.\n",
    "\n",
    "The list of values in the argument is **zero-based** unless otherwise specified, with an upper limit of (but not including) the argument. Some examples of what that means:\n",
    "- range(6) => iterate 6 times using values of 0, 1, 2, 3, 4, and 5.\n",
    "- range(5, 11) => iterate using 5, 6, 7, 8, 9, and 10.\n",
    "- range(2, 11, 2) => iterate using 2, 4, 6, 8, and 10. The third argument is a step value. The step value can be any number, even a negative one.\n",
    "\n",
    "You can use the target variable inside the loop just like any other variable, keeping in mind that it changes with each pass through the loop. _That is often the point of using the target variable (more on that later)_.\n"
   ]
  },
  {
   "cell_type": "markdown",
   "metadata": {},
   "source": [
    "Often, the hardest thing about looping is figuring out where calculations and other actions should occur in the loop. For example, let's work out the logic on the following problem.\n",
    "\n",
    "#### Example: \n",
    "This year’s level of production and price (per bushel) for most agricultural products greatly affects the level of production and price next year. Suppose the current crop of soybeans in a country is 80 million bushels and experience has shown that for each year,\n",
    "\n",
    "```\n",
    "[price this year] = 20 – 0.1*[quantity this year]\n",
    "[quantity next year] = 5*[price this year] – 10,\n",
    "```\n",
    "\n",
    "where quantity is measured in units of millions of bushels. Generate a table to show the quantity and price for each of the next 12 years.\n"
   ]
  },
  {
   "cell_type": "code",
   "execution_count": null,
   "metadata": {},
   "outputs": [],
   "source": [
    "# Example: soy bean quantity and price\n",
    "quantity = float(input(\"Start quantity: \"))\n",
    "year = int(input(\"Start year: \"))\n",
    "num_years = int(input(\"How many years?: \"))\n",
    "\n",
    "# print the header for the output table\n",
    "print(\"Year\", \"Quantity\", \"Price\")\n",
    "\n",
    "# complete the code below \n",
    "for num in range(12):\n",
    "    price = 20 - (0.1 * quantity)\n",
    "    #This year's numbers are ready for output.\n",
    "    print(year, ' ', format(quantity, '.1f', format(price, '.2f')))\n",
    "    \n",
    "    # increment the year and calculate next year's quantity \n",
    "    year = year + 1\n",
    "    quantity = (5 * price) - 10"
   ]
  },
  {
   "cell_type": "markdown",
   "metadata": {},
   "source": [
    "### Using a variable for the upper limit value.\n",
    "User input (or another source) can be used to set the upper limit on the `for` loop execution. For example, if you ask the user how many times to run the loop you have to add 1 to the entered result or the loop will run one fewer times (because of the way range() works). You can do the same for the starting point but it is not necessary to add 1.\n"
   ]
  },
  {
   "cell_type": "code",
   "execution_count": null,
   "metadata": {},
   "outputs": [],
   "source": [
    "# Example: modify soy bean program to have user specify number of years\n"
   ]
  },
  {
   "cell_type": "markdown",
   "metadata": {},
   "source": [
    "We can also run the loop in “reverse” by swapping the start point and upper limit while applying a negative step value. Like many other things in programming, this should only be done in a working program if it is the best way to solve a problem."
   ]
  },
  {
   "cell_type": "markdown",
   "metadata": {},
   "source": [
    "### Accumulators, counters, and sentinels\n",
    "An _**accumulator**_ is a variable you add to each time through the loop. It allows you to have a running total or to calculate a total over a group of items. A _**counter**_ is a variable you add 1 to each time through the loop. It allows you to see how many times the loop ran. In our earlier interest rate example, the `years` variable is a counter.\n",
    "\n",
    "Both accumulators and counters should usually be initialized with a value of zero."
   ]
  },
  {
   "cell_type": "code",
   "execution_count": null,
   "metadata": {},
   "outputs": [],
   "source": [
    "# Example: use an accumulator and counter\n",
    "print('Calculate a total for a number of items entered.')\n",
    "max = int(input('How many items?: '))\n",
    "\n",
    "# Initialize the accumulator and counter variables\n",
    "total = 0.0\n",
    "count = 0\n",
    "# Why do their zero values look different?\n",
    "\n",
    "for item in range(max):\n",
    "    item_cost = float(input('Enter an item cost: '))\n",
    "    total = total + item_cost\n",
    "    count += 1\n",
    "\n",
    "print('The total for', count, 'items is $', format(total, ',.2f'))\n"
   ]
  },
  {
   "cell_type": "markdown",
   "metadata": {},
   "source": [
    "#### Augmented assignment operators\n",
    "Augmented assignment operators are a shorthand code for an increment/decrement statement.\n",
    "\n",
    "```x = x + 1\n",
    "can be rewritten as \n",
    " x += 1```\n",
    "\n",
    "You can also use `-=, *=, /=, and %=`\n",
    "\n",
    "Only use them if you are comfortable with them. There is nothing wrong with writing code without them.\n"
   ]
  },
  {
   "cell_type": "markdown",
   "metadata": {},
   "source": [
    "A _**sentinel **_ is a special value that marks the end of a sequence of items so the loop knows to terminate. You must be sure it is a distinctive value so it is not mistaken as a regular value in the sequence.\n"
   ]
  },
  {
   "cell_type": "code",
   "execution_count": 3,
   "metadata": {},
   "outputs": [
    {
     "name": "stdout",
     "output_type": "stream",
     "text": [
      "Calculate a total for the items entered. Enter -999 when you are done.\n",
      "Enter an item cost: 5\n",
      "Enter an item cost: 89\n",
      "Enter an item cost: 600\n",
      "Enter an item cost: -999\n",
      "The total for 3 items is $ -310.00\n"
     ]
    }
   ],
   "source": [
    "# Example: modify the previous example to use a sentinel value in a while loop\n",
    "print('Calculate a total for the items entered. Enter -999 when you are done.')\n",
    "\n",
    "# Initialize the accumulator and counter variables\n",
    "total = 0.0\n",
    "count = 0\n",
    "item_cost = float(input('Enter an item cost: '))\n",
    "\n",
    "while (item_cost != -999):\n",
    "    total = total + item_cost\n",
    "    count += 1\n",
    "    item_cost = float(input('Enter an item cost: '))\n",
    "        \n",
    "\n",
    "print('The total for', count, 'items is $', format(total, ',.2f'))"
   ]
  },
  {
   "cell_type": "markdown",
   "metadata": {},
   "source": [
    "## Nested loops\n",
    "Loops can be inside other loops. The inner loop goes through all of its iterations for every iteration of the outer loop.\n",
    "To figure out how many total iterations in a nested loop, multiply the number of iterations of all of the loops.\n",
    "\n",
    "The logic involved can get pretty confusing so only use it if necessary. We will see at least one necessary place later in the semester.\n"
   ]
  },
  {
   "cell_type": "code",
   "execution_count": null,
   "metadata": {},
   "outputs": [],
   "source": [
    "# Example: nested loops - display a right triangle\n",
    "width = int(input(\"Enter the width of the tringle base: \"))\n",
    "height = int(input(\"Enter the height of the triangle: \"))\n",
    "\n",
    "\n"
   ]
  },
  {
   "cell_type": "markdown",
   "metadata": {},
   "source": [
    "## Input validation loops\n",
    "Because we always assume there will be input errors (see Rule 7), we use a `while` loop to catch them before they create problems.\n",
    "\n",
    "General procedure for input validation loops:\n",
    "- Get the input from the user.\n",
    "- Check the input. \n",
    "  - If it is bad, show the user an error message and repeat the input process. \n",
    "  - If it is okay, continue with the rest of the program.\n",
    "\n",
    "As an example, let's modify the 'years to the target' code from the first example."
   ]
  },
  {
   "cell_type": "code",
   "execution_count": null,
   "metadata": {},
   "outputs": [],
   "source": [
    "# Example: Add input validation to our earlier example of calculating how many years it\n",
    "#          takes to get to an investment target.\n",
    "# First, copy your working code from the first example cell. Then we will modify it.\n"
   ]
  }
 ],
 "metadata": {
  "kernelspec": {
   "display_name": "Python 3",
   "language": "python",
   "name": "python3"
  },
  "language_info": {
   "codemirror_mode": {
    "name": "ipython",
    "version": 3
   },
   "file_extension": ".py",
   "mimetype": "text/x-python",
   "name": "python",
   "nbconvert_exporter": "python",
   "pygments_lexer": "ipython3",
   "version": "3.6.5"
  }
 },
 "nbformat": 4,
 "nbformat_minor": 2
}

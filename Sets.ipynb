{
 "cells": [
  {
   "cell_type": "markdown",
   "metadata": {},
   "source": [
    "# 15 Sets\n",
    "A **set** contains a collection of unique values and works like a mathematical set.\n",
    "\n",
    "The main characteristics of a set are:\n",
    "- All of the elements must be unique. A set will not allow any duplication.\n",
    "- Elements are unordered, so they are not in in any particular order.\n",
    "- Elements can be of different data types.\n"
   ]
  },
  {
   "cell_type": "markdown",
   "metadata": {},
   "source": [
    "We create a set by calling the built-in `set()` function. You can pass ONE argument, which has to contain an iterable object like a list, tuple, or string.\n",
    "```\n",
    "our_set = set('mississippi')\n",
    "print(our_set)\n",
    "```"
   ]
  },
  {
   "cell_type": "code",
   "execution_count": null,
   "metadata": {},
   "outputs": [],
   "source": [
    "# Example: create a set\n"
   ]
  },
  {
   "cell_type": "code",
   "execution_count": null,
   "metadata": {},
   "outputs": [],
   "source": [
    "# This generates an error!\n",
    "fish_name = set(\"salmon\", \"mahi mahi\", \"trout\", \"swordfish\")"
   ]
  },
  {
   "cell_type": "code",
   "execution_count": null,
   "metadata": {},
   "outputs": [],
   "source": [
    "# But this is okay, but maybe not what we needed.\n",
    "fish_name = set(\"Humu humu nuku nuku apua'a\")\n",
    "fish_name"
   ]
  },
  {
   "cell_type": "markdown",
   "metadata": {},
   "source": [
    "What if we want the set to include multiple strings? Pass a list.\n",
    "```\n",
    "my_set = set(['bread', 'apples', 'very small rocks'])\n",
    "my_set\n",
    "```"
   ]
  },
  {
   "cell_type": "code",
   "execution_count": null,
   "metadata": {},
   "outputs": [],
   "source": [
    "# Example: a set from a list of strings \n"
   ]
  },
  {
   "cell_type": "markdown",
   "metadata": {},
   "source": [
    "## Working with set elements\n",
    "- `len()` returns the length of the set, which is the number of elements it contains.\n",
    "- `.add(new element)` appends the element to the set.\n",
    "- `.update()` appends a group of elements to the set.\n",
    "\n",
    "You can delete an element in one of two ways. The difference between them is how they handle an element that isn't found.\n",
    "- `.remove(element)` raises a KeyErro exception if _element_ is not found\n",
    "- `.discard(element)` does not raise an exception if _element_ is not found"
   ]
  },
  {
   "cell_type": "code",
   "execution_count": null,
   "metadata": {},
   "outputs": [],
   "source": [
    "# Example: len() and add()\n"
   ]
  },
  {
   "cell_type": "code",
   "execution_count": null,
   "metadata": {},
   "outputs": [],
   "source": [
    "# Example: update()\n",
    "\n"
   ]
  },
  {
   "cell_type": "code",
   "execution_count": null,
   "metadata": {},
   "outputs": [],
   "source": [
    "# Example: remove()\n"
   ]
  },
  {
   "cell_type": "code",
   "execution_count": null,
   "metadata": {},
   "outputs": [],
   "source": [
    "# Example: discard()\n"
   ]
  },
  {
   "cell_type": "code",
   "execution_count": null,
   "metadata": {},
   "outputs": [],
   "source": [
    "# Example: remove() and discard() when the element is missing\n",
    "\n"
   ]
  },
  {
   "cell_type": "markdown",
   "metadata": {},
   "source": [
    "To copy a set we have to create a blank set and add elements while we iterate through them. The easiest way is with the `for` loop with the `in` operator we've used before.\n",
    "```\n",
    "set_copy = set()\n",
    "for item in my_set:\n",
    "\tset_copy.add(item)\n",
    "\n",
    "print(set_copy)\n",
    "```"
   ]
  },
  {
   "cell_type": "code",
   "execution_count": null,
   "metadata": {},
   "outputs": [],
   "source": [
    "# Example: copy a set\n"
   ]
  },
  {
   "cell_type": "markdown",
   "metadata": {},
   "source": [
    "Use the `.clear()` set method to clear out all of the elements.\n",
    "```\n",
    "set_copy.clear()\n",
    "print(set_copy)\n",
    "```"
   ]
  },
  {
   "cell_type": "code",
   "execution_count": null,
   "metadata": {},
   "outputs": [],
   "source": [
    "# Example: clear all set elements\n"
   ]
  },
  {
   "cell_type": "markdown",
   "metadata": {},
   "source": [
    "We can also use the `in` and `not in` operators to test for a value in the set."
   ]
  },
  {
   "cell_type": "code",
   "execution_count": null,
   "metadata": {},
   "outputs": [],
   "source": [
    "# Example: testing for a set value\n",
    "if 'apples' in my_set:\n",
    "    print('Found it!')\n",
    "else:\n",
    "    print('Not found')\n",
    "\n",
    "if 'duck' not in my_set:\n",
    "    print('Missing')\n"
   ]
  },
  {
   "cell_type": "markdown",
   "metadata": {},
   "source": [
    "## Other set operators\n",
    "You can perform many of the same operations on Python sets that you might have done in mathe class on sets.\n",
    "\n",
    "#### Union\n",
    "Performing a union of sets returns a new set containing all of the unique elements of the two sets.\n",
    "- We can do this using the `union()` method of one set with the other set as an argument.\n",
    "- We can also use the piping operator `|` between the set names to find the union.\n",
    "\n",
    "```\n",
    "my_set\n",
    "new_set = set(['apples', 'knight', 'spam', 'bread'])\n",
    "set3 = my_set.union(new_set)\n",
    "set3\n",
    "\n",
    "set4 = my_set | new_set\n",
    "set4\n",
    "```"
   ]
  },
  {
   "cell_type": "code",
   "execution_count": null,
   "metadata": {},
   "outputs": [],
   "source": [
    "# Example: using the union() method\n"
   ]
  },
  {
   "cell_type": "code",
   "execution_count": null,
   "metadata": {},
   "outputs": [],
   "source": [
    "# Example: using the piping operator\n"
   ]
  },
  {
   "cell_type": "markdown",
   "metadata": {},
   "source": [
    "#### Intersection\n",
    "Finding the intersection of two sets returns a set containing all the elements common to the two sets.\n",
    "- We can do this using the `intersection()` method of one set with the other set as an argument.\n",
    "- We can also use the & operator between the set names to find the intersection.\n",
    "\n",
    "```\n",
    "set_common = my_set.intersection(new_set)\n",
    "print(set_common)\n",
    "\n",
    "set_common = my_set & new_set\n",
    "print(set_common)\n",
    "\n",
    "```"
   ]
  },
  {
   "cell_type": "code",
   "execution_count": null,
   "metadata": {},
   "outputs": [],
   "source": [
    "# Example: intersection() method\n"
   ]
  },
  {
   "cell_type": "code",
   "execution_count": null,
   "metadata": {},
   "outputs": [],
   "source": [
    "# Example: using the & operator\n"
   ]
  },
  {
   "cell_type": "markdown",
   "metadata": {},
   "source": [
    "#### Difference\n",
    "The difference between two sets is the elements that appear in one set but not in the other. For example, the difference between set A and set B would be the elements of set A that don't appear in set B, or the elements that are unique to set A.\n",
    "- We can do this using the `difference()` method of one set with the other set as an argument.\n",
    "- We can also use the minus `-` operator between the set names to find the difference.\n",
    "\n",
    "```\n",
    "diff_set = my_set.intersection(new_set)\n",
    "print(diff_set)\n",
    "\n",
    "diff_set = my_set - new_set\n",
    "print(diff_set)\n",
    "\n",
    "```"
   ]
  },
  {
   "cell_type": "code",
   "execution_count": null,
   "metadata": {},
   "outputs": [],
   "source": [
    "# Example: using intersection() method\n"
   ]
  },
  {
   "cell_type": "code",
   "execution_count": null,
   "metadata": {},
   "outputs": [],
   "source": [
    "# Example: using minus operator\n"
   ]
  },
  {
   "cell_type": "markdown",
   "metadata": {},
   "source": [
    "#### Symmetric difference\n",
    "The symmetric difference is the set of elements in each of the sets but not in both. It is the elements that are unique across both sets.\n",
    "- We can do this using the `symmetric_difference()` method of one set with the other set as an argument.\n",
    "- We can also use the caret `^` operator between the set names to find the symmetric difference.\n",
    "\n",
    "```\n",
    "symm_set = my_set.symmetric_difference(new_set)\n",
    "symm_set\n",
    "\n",
    "symm_set = my_set ^ new_set\n",
    "symm_set\n",
    "\n",
    "```"
   ]
  },
  {
   "cell_type": "code",
   "execution_count": null,
   "metadata": {},
   "outputs": [],
   "source": [
    "# Example: using symmetric_difference() method\n"
   ]
  },
  {
   "cell_type": "code",
   "execution_count": null,
   "metadata": {},
   "outputs": [],
   "source": [
    "# Example: using caret operator\n"
   ]
  },
  {
   "cell_type": "markdown",
   "metadata": {},
   "source": [
    "#### Subsets and supersets\n",
    "If we have two sets we can determine if one is a subset or superset of the other. One set is a subset of another if all its elements are contained in the other. That other set would then be a superset of the first set.\n",
    "\n",
    "For example, if all the elements of set A are found in set B, A is a subset of B and B is a superset of A.\n",
    "- We can use the `issubset()` and `issuperset()` methods of one set with the other as an argument.\n",
    "- We can also use the `<=` (for subset) an `>=` (for superset) operators instead.\n",
    "- In either case, a Boolean value is returned.\n",
    "\n",
    "```\n",
    "print(my_set)\n",
    "set1 = set(['very small rocks', 'churches'])\n",
    "set1.issubset(my_set)\n",
    "\n",
    "set1 <= my_set\n",
    "\n",
    "set1 >= my_set\n",
    "\n",
    "```"
   ]
  },
  {
   "cell_type": "code",
   "execution_count": null,
   "metadata": {},
   "outputs": [],
   "source": [
    "# Example: subsets and supersets\n"
   ]
  }
 ],
 "metadata": {
  "kernelspec": {
   "display_name": "Python 3",
   "language": "python",
   "name": "python3"
  },
  "language_info": {
   "codemirror_mode": {
    "name": "ipython",
    "version": 3
   },
   "file_extension": ".py",
   "mimetype": "text/x-python",
   "name": "python",
   "nbconvert_exporter": "python",
   "pygments_lexer": "ipython3",
   "version": "3.6.5"
  }
 },
 "nbformat": 4,
 "nbformat_minor": 2
}

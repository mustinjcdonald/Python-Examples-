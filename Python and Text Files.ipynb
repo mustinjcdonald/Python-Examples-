{
 "cells": [
  {
   "cell_type": "markdown",
   "metadata": {},
   "source": [
    "# 07 Python and Text Files\n",
    "File(s) needed: numbers.txt, fastfood.txt\n"
   ]
  },
  {
   "cell_type": "markdown",
   "metadata": {},
   "source": [
    "We can use different types of files to read and/or write data.\n",
    "\n",
    "Files allow for two kinds of data access.\n",
    "- Direct access, where you can go directly to the piece of data you want. Like a database file where we use a primary key to get the data of interest.\n",
    "- Sequential access, where you have to read through the file line-by-line until you get to the data you want. \n",
    "\n",
    "We will start with text files, which are sequential. Later in the semester we will work with some of the tools available in Python to use other types of files.\n",
    "\n",
    "There are three basic steps to using a file in a program.\n",
    "- Open the file\n",
    "- Process the file\n",
    "- Close the file\n",
    "\n",
    "They may seem obvious, but we often forget about them, especially closing the file."
   ]
  },
  {
   "cell_type": "markdown",
   "metadata": {},
   "source": [
    "We open files by creating a **file object**, giving it the name of the file of interest, and using its built-in **methods** to access the contents.\n",
    "\n",
    "The general way we open a file is:\n",
    "\n",
    "```\n",
    "file_object_name = open(filename, mode)\n",
    "```\n",
    "\n",
    "The mode can be any one of the following:\n",
    "- r – read only. No changes are allowed.\n",
    "- w – open the file for writing. The contents of an existing file are erased. If the file does not exist it is created.\n",
    "- a – open for writing but the data is appended to the existing data. If the file does not exist it is created.\n",
    "\n",
    "This code assumes the file is located in the same directory as the code. The `filename` can include a path string, but it needs to have a letter 'r' at the beginning. This r tells Python the string is a raw string so any backslashes in the filename are backslashes and not escape characters. It is different from the r used for 'read only' mode."
   ]
  },
  {
   "cell_type": "markdown",
   "metadata": {},
   "source": [
    "Examples:\n",
    "- open or create a file for the storage of tax calculation results\n",
    "```\n",
    "output_file = open('tax_results.txt', w)\n",
    "```\n",
    "\n",
    "- open a file in a different directory for read only access\n",
    "```\n",
    "input_file = open(r'C:\\Users\\TSwift\\temp\\lyrics.txt', 'r')\n",
    "```"
   ]
  },
  {
   "cell_type": "markdown",
   "metadata": {},
   "source": [
    "## Writing to a file\n",
    "This is pretty straightforward.\n",
    "- Open the file.\n",
    "- Use the `write` method to write the data to the file.\n",
    "- Close the file using the `close` method.\n",
    "\n",
    "Let's try it."
   ]
  },
  {
   "cell_type": "code",
   "execution_count": null,
   "metadata": {},
   "outputs": [],
   "source": [
    "# Example: write to a file\n",
    "output_file = open('grail.txt', 'w')\n",
    "output_file.write('Sir Robin\\n')             # why the \\n?\n",
    "output_file.write('6527.189\\n')\n",
    "\n",
    "# add the code to write a few more lines of string data to the file\n",
    "\n",
    "\n"
   ]
  },
  {
   "cell_type": "markdown",
   "metadata": {},
   "source": [
    "To write a numeric value to the file it has to be converted to a string first using the `str` function. Don't forget about the newline code."
   ]
  },
  {
   "cell_type": "code",
   "execution_count": null,
   "metadata": {},
   "outputs": [],
   "source": [
    "sell_price = 8.24\n",
    "output_file.write(str(sell_price) + '\\n')"
   ]
  },
  {
   "cell_type": "code",
   "execution_count": null,
   "metadata": {},
   "outputs": [],
   "source": [
    "# Run this cell when we're done with the file\n",
    "output_file.close()"
   ]
  },
  {
   "cell_type": "markdown",
   "metadata": {},
   "source": [
    "## Appending data to a file\n",
    "Use the same basic process as writing. The only things that change are that we use the 'a' mode when we open the file and the data is tacked onto the end of what is already there."
   ]
  },
  {
   "cell_type": "code",
   "execution_count": null,
   "metadata": {},
   "outputs": [],
   "source": [
    "# Example: appending to existing file\n",
    "# Make sure grail.txt is closed after writing to it. Then open it in Jupyter to see what is currently in it.\n",
    "out_file = open('grail.txt', 'a')\n",
    "\n",
    "# add some new data to be appended\n",
    "out_file.write('King Arthur\\n')\n",
    "out_file.write('Sir Gawain\\n')\n",
    "out_file.write(str(sell_price*10)+ '\\n')\n",
    "\n",
    "# add some more lines to append some data.\n",
    "\n",
    "\n",
    "out_file.close()\n",
    "# look at what is in the file now."
   ]
  },
  {
   "cell_type": "markdown",
   "metadata": {},
   "source": [
    "## Reading data from a file\n",
    "We use the `readline` method to read the data one line at a time."
   ]
  },
  {
   "cell_type": "code",
   "execution_count": null,
   "metadata": {},
   "outputs": [],
   "source": [
    "# Example: reading the first three lines of grail.txt\n",
    "in_file = open('grail.txt', 'r')\n",
    "line1 = in_file.readline()\n",
    "line2 = in_file.readline()\n",
    "line3 = in_file.readline()\n",
    "in_file.close()\n",
    "print(line1)\n",
    "print(line2)\n",
    "print(line3)\n"
   ]
  },
  {
   "cell_type": "markdown",
   "metadata": {},
   "source": [
    "Why all the blank lines? readline advances to the next line plus each line has a newline code at the end. The ‘\\n’ in the text file separates items in the input file but we usually don’t need them when we read text file data. We can use a Python string method called **rstrip** (which is short for 'right strip') to get rid of them.\n",
    "\n",
    "Add the following code to the previous example before the print statements and run the cell again:\n",
    "```\n",
    "line1 = line1.rstrip('\\n')\n",
    "line2 = line2.rstrip('\\n')\n",
    "line3 = line3.rstrip('\\n')\n",
    "```\n"
   ]
  },
  {
   "cell_type": "markdown",
   "metadata": {},
   "source": [
    "### Reading numeric data\n",
    "Remember how the `input()` function only returned strings so we had to use conversion functions to get numbers from numeric strings? The same applies for `readline`. Use `int()` or `float()` to convert the numeric data into the type you need. One nice thing is that we don't have to worry about the newline ('\\n') codes in this situation."
   ]
  },
  {
   "cell_type": "code",
   "execution_count": null,
   "metadata": {},
   "outputs": [],
   "source": [
    "# Example: read the first three values from numbers.txt\n",
    "infile = open('numbers.txt','r')\n",
    "num1 = float(infile.readline())\n",
    "num2 = float(infile.readline())\n",
    "num3 = float(infile.readline())\n",
    "total = num1 + num2 + num3\n",
    "print(num1, num2, num3)\n",
    "print(total)\n"
   ]
  },
  {
   "cell_type": "markdown",
   "metadata": {},
   "source": [
    "## Loops and file access\n",
    "You may have already realized that loops are very helpful when reading or writing data to files. The files we have been working with hold just a few lines of data. What if there were thousands of data points we needed to read or write?\n",
    "\n",
    "### Output to a file with a loop\n",
    "The general procedure is to open the file, loop through the data and write each piece to the file, close the file. It's a pretty straightforward process so we'll come back to that in a later example."
   ]
  },
  {
   "cell_type": "markdown",
   "metadata": {},
   "source": [
    "### Reading to the end of a file with a loop\n",
    "We have talked about two different looping techniques, the `WHILE` and `FOR` loops. Both can be used when reading data. The `FOR` loop is easier to use, but the structure used with the `WHILE` loop is used in other programming languages so you should be familiar with it in case you see it in the future.\n",
    "\n",
    "#### WHILE loop\n",
    "The idea here is to loop through the file until the `readline()` method returns an empty string. It requires what we call a priming read. A **priming read** is a reading of the first line of data before we start the loop. If there is nothing in the data file, the loop will never run. \n",
    "\n",
    "The next example shows how this works."
   ]
  },
  {
   "cell_type": "code",
   "execution_count": null,
   "metadata": {},
   "outputs": [],
   "source": [
    "# Example: reading a file with the WHILE loop\n",
    "\n",
    "# open file for reading\n",
    "\n",
    "\n",
    "# read the first line from the file – the priming read\n",
    "\n",
    "\n",
    "# Continue reading from the file until an empty string is returned.\n",
    "\n",
    "\n",
    "\n",
    "\n",
    "\n",
    "#close the file\n",
    "\n"
   ]
  },
  {
   "cell_type": "markdown",
   "metadata": {},
   "source": [
    "#### Using the FOR loop\n",
    "The `FOR` loop is easier to use because of three characteristics:\n",
    "1. It doesn't require a priming read.\n",
    "2. It automatically reads the next line each time the loop repeats.\n",
    "3. It automatically stops at the end of the file. \n",
    "\n",
    "The next example uses the same file as the previous example to show the difference."
   ]
  },
  {
   "cell_type": "code",
   "execution_count": 4,
   "metadata": {},
   "outputs": [
    {
     "ename": "FileNotFoundError",
     "evalue": "[Errno 2] No such file or directory: 'numbers.txt'",
     "output_type": "error",
     "traceback": [
      "\u001b[1;31m---------------------------------------------------------------------------\u001b[0m",
      "\u001b[1;31mFileNotFoundError\u001b[0m                         Traceback (most recent call last)",
      "\u001b[1;32m<ipython-input-4-56c84ef23020>\u001b[0m in \u001b[0;36m<module>\u001b[1;34m()\u001b[0m\n\u001b[0;32m      2\u001b[0m \u001b[1;33m\u001b[0m\u001b[0m\n\u001b[0;32m      3\u001b[0m \u001b[1;31m# open file for reading\u001b[0m\u001b[1;33m\u001b[0m\u001b[1;33m\u001b[0m\u001b[0m\n\u001b[1;32m----> 4\u001b[1;33m \u001b[0minfile\u001b[0m \u001b[1;33m=\u001b[0m \u001b[0mopen\u001b[0m\u001b[1;33m(\u001b[0m\u001b[1;34m'numbers.txt'\u001b[0m\u001b[1;33m,\u001b[0m\u001b[1;34m'r'\u001b[0m\u001b[1;33m)\u001b[0m\u001b[1;33m\u001b[0m\u001b[0m\n\u001b[0m\u001b[0;32m      5\u001b[0m \u001b[1;33m\u001b[0m\u001b[0m\n\u001b[0;32m      6\u001b[0m \u001b[1;31m# Continue processing the file until\u001b[0m\u001b[1;33m\u001b[0m\u001b[1;33m\u001b[0m\u001b[0m\n",
      "\u001b[1;31mFileNotFoundError\u001b[0m: [Errno 2] No such file or directory: 'numbers.txt'"
     ]
    }
   ],
   "source": [
    "# Example: reading a file with the FOR loop\n",
    "\n",
    "# open file for reading\n",
    "infile = open('numbers.txt','r')\n",
    "\n",
    "# Continue processing the file until\n",
    "\n",
    "    \n",
    "for number in infile:    \n",
    "                total+=int(number)\n",
    "                print(\"The sum is:\", total)                  # display the number\n",
    "    \n",
    "#close the file\n",
    "infile.close()\n"
   ]
  },
  {
   "cell_type": "markdown",
   "metadata": {},
   "source": [
    "## Programming Exercise\n",
    "Use the file **integers.txt** as input for a program to read all of the values stored in the file and report the count, the total, and the average (to 3 decimal places) of all the numbers. There is no user input for this program. Make sure the data file and the code are in the same folder. Your output should look something like this:\n",
    "```\n",
    "There are 68 values in the file.\n",
    "The total of all values is 1296, for an average of 19.059 per value.\n",
    "```"
   ]
  },
  {
   "cell_type": "code",
   "execution_count": 2,
   "metadata": {},
   "outputs": [
    {
     "name": "stdout",
     "output_type": "stream",
     "text": [
      "Total of all numbers is: 1296.0\n",
      "The average of all numbers is: 19.059\n"
     ]
    }
   ],
   "source": [
    "infile = open('integers.txt','r')\n",
    "total = 0\n",
    "\n",
    "for line in infile:    \n",
    "           num = float(line)\n",
    "           total += num\n",
    "           \n",
    "        \n",
    "print('Total of all numbers is:', format(total))\n",
    "print('The average of all numbers is:', format(total/68, '.3f'))\n",
    "    \n",
    "infile.close()"
   ]
  },
  {
   "cell_type": "markdown",
   "metadata": {},
   "source": [
    "## Processing data records in text files\n",
    "Up to this point we have been practicing with single data points, each on its own line in the text file. Most data you will need to work with is comprised of multiple **fields** that together make **records**. We can still work with this data in text files, as long as we know what the data looks like. We can have each field of a record appear on its own line in the file and a certain number of lines (fields) comprise a record. If we have _x_ fields in a record, then every _x_ lines in the text file starts a new record.\n",
    "\n",
    "Let's look at an example. Open the file **fastfood.txt** in Jupyter. You can see it looks like there is a cyclical pattern there. This is what each field is:\n",
    "```\n",
    "item name\n",
    "selling price\n",
    "cost\n",
    "category\n",
    "```\n",
    "\n",
    "We can use that information (and a WHILE loop) to read the data one field at a time inside one record at a time."
   ]
  },
  {
   "cell_type": "code",
   "execution_count": 7,
   "metadata": {},
   "outputs": [
    {
     "name": "stdout",
     "output_type": "stream",
     "text": [
      "taco 1.49 0.53 food\n",
      "soda-medium 2.19 0.22 drink\n",
      "soda-large 3.29 0.31 drink\n",
      "soda-small 1.79 0.19 drink\n",
      "chili 3.89 1.41 food\n",
      "hot dog 2.29 1.02 food\n",
      "french fries 2.49 0.68 side order\n"
     ]
    }
   ],
   "source": [
    "# Example: reading data records\n",
    "\n",
    "# open file for reading\n",
    "infile = open('fastfood.txt','r')\n",
    "\n",
    "# read the name of the first item\n",
    "line = infile.readline()\n",
    "item = line.rstrip('\\n')    # strip off the newline from the line read\n",
    "\n",
    "# Continue processing the file until\n",
    "# an empty string is returned.\n",
    "\n",
    "while line != '':\n",
    "    line = infile.readline()\n",
    "    sell_price = float(line)\n",
    "    \n",
    "    line = infile.readline()\n",
    "    item_cost = float(line)\n",
    "    \n",
    "    line = infile.readline()\n",
    "    category = line.rstrip('\\n')\n",
    "    \n",
    "    print(item, sell_price, item_cost, category)\n",
    "\n",
    "    line = infile.readline()\n",
    "    item = line.rstrip('\\n')\n",
    "    \n",
    "       \n",
    "#close the file\n",
    "infile.close()\n"
   ]
  },
  {
   "cell_type": "markdown",
   "metadata": {},
   "source": [
    "### Modifying records\n",
    "Text files are sequential files, so we have to read and write the entire file when we want to make any changes. To do this we use a technique that is similar to swapping values between two variables. Think about that for a second. How do you swap values between two variables? How do two people switch chairs?\n",
    "\n",
    "We will be using another Python module here, `os`. This module provides us with tools for interacting with the computer's operating system."
   ]
  },
  {
   "cell_type": "code",
   "execution_count": 5,
   "metadata": {},
   "outputs": [
    {
     "name": "stdout",
     "output_type": "stream",
     "text": [
      "Enter the name of an item: hot dog\n",
      "Enter the new price: 7.88\n"
     ]
    },
    {
     "ename": "NameError",
     "evalue": "name 'catergory' is not defined",
     "output_type": "error",
     "traceback": [
      "\u001b[1;31m---------------------------------------------------------------------------\u001b[0m",
      "\u001b[1;31mNameError\u001b[0m                                 Traceback (most recent call last)",
      "\u001b[1;32m<ipython-input-5-2f3d9949d303>\u001b[0m in \u001b[0;36m<module>\u001b[1;34m()\u001b[0m\n\u001b[0;32m     42\u001b[0m         \u001b[0mtemp_file\u001b[0m\u001b[1;33m.\u001b[0m\u001b[0mwrite\u001b[0m\u001b[1;33m(\u001b[0m\u001b[0mstr\u001b[0m\u001b[1;33m(\u001b[0m\u001b[0msell_price\u001b[0m\u001b[1;33m)\u001b[0m \u001b[1;33m+\u001b[0m \u001b[1;34m'\\n'\u001b[0m\u001b[1;33m)\u001b[0m\u001b[1;33m\u001b[0m\u001b[0m\n\u001b[0;32m     43\u001b[0m         \u001b[0mtemp_file\u001b[0m\u001b[1;33m.\u001b[0m\u001b[0mwrite\u001b[0m\u001b[1;33m(\u001b[0m\u001b[0mstr\u001b[0m\u001b[1;33m(\u001b[0m\u001b[0mcost\u001b[0m\u001b[1;33m)\u001b[0m \u001b[1;33m+\u001b[0m \u001b[1;34m'\\n'\u001b[0m\u001b[1;33m)\u001b[0m\u001b[1;33m\u001b[0m\u001b[0m\n\u001b[1;32m---> 44\u001b[1;33m         \u001b[0mtemp_file\u001b[0m\u001b[1;33m.\u001b[0m\u001b[0mwrite\u001b[0m\u001b[1;33m(\u001b[0m\u001b[0mcatergory\u001b[0m \u001b[1;33m+\u001b[0m \u001b[1;34m'\\n'\u001b[0m\u001b[1;33m)\u001b[0m\u001b[1;33m\u001b[0m\u001b[0m\n\u001b[0m\u001b[0;32m     45\u001b[0m \u001b[1;33m\u001b[0m\u001b[0m\n\u001b[0;32m     46\u001b[0m     \u001b[1;31m# read the name of the next item\u001b[0m\u001b[1;33m\u001b[0m\u001b[1;33m\u001b[0m\u001b[0m\n",
      "\u001b[1;31mNameError\u001b[0m: name 'catergory' is not defined"
     ]
    }
   ],
   "source": [
    "# Example: modifying specific records in the fastfood.txt file\n",
    "import os           # needed for the remove and rename file functions\n",
    "\n",
    "# create a flag variable for the search process\n",
    "found = False\n",
    "\n",
    "# Search criteria for the desired record\n",
    "search = input('Enter the name of an item: ')\n",
    "new_price = float(input('Enter the new price: '))\n",
    "\n",
    "# open original file for reading\n",
    "food_file = open('fastfood.txt', 'r')\n",
    "\n",
    "# open a temporary file for writing the changes\n",
    "temp_file = open('temp.txt', 'w')\n",
    "\n",
    "# Find the item - read the name of the first item (priming read)\n",
    "item = food_file.readline().rstrip('\\n')\n",
    "\n",
    "# Process the file until an empty string is returned\n",
    "while item != '':\n",
    "    \n",
    "    # read the rest of the record\n",
    "    sell_price = float(food_file.readline())\n",
    "    cost = float(food_file.readline())\n",
    "    category = food_file.readline().rstrip('\\n')\n",
    "    \n",
    "    \n",
    "    \n",
    "    # Either write the record to the temp file or\n",
    "    # the new data if this is the desired record.\n",
    "    if item == search:\n",
    "        temp_file.write(item + '\\n')\n",
    "        temp_file.write(str(new_price) + '\\n')\n",
    "        temp_file.write(str(cost) + '\\n')\n",
    "        temp_file.write(catergory + '\\n')\n",
    "        \n",
    "        found = True\n",
    "        \n",
    "    else:\n",
    "        temp_file.write(item + '\\n')\n",
    "        temp_file.write(str(sell_price) + '\\n')\n",
    "        temp_file.write(str(cost) + '\\n')\n",
    "        temp_file.write(catergory + '\\n')\n",
    "    \n",
    "    # read the name of the next item\n",
    "    item = food_file.readline().rstrip('\\n')\n",
    "\n",
    "#close both files\n",
    "food_file.close()\n",
    "temp_file.close()\n",
    "\n",
    "# Delete the original file\n",
    "os.remove('fastfood.txt')\n",
    "\n",
    "# Change the name of the temporary file to the original file name\n",
    "os.rename('temp_file.txt', 'fastfood.txt')\n",
    "\n",
    "# Tell the user if we found the item\n",
    "if found:\n",
    "    print('The file was updated!')\n",
    "else: \n",
    "    print('The file could not be found, please try again.')\n",
    "\n"
   ]
  },
  {
   "cell_type": "markdown",
   "metadata": {},
   "source": [
    "### Deleting records\n",
    "We have to follow the same procedure as in the modifying records example EXCEPT we don't write the \"deleted\" record to the new data file."
   ]
  },
  {
   "cell_type": "code",
   "execution_count": 3,
   "metadata": {},
   "outputs": [
    {
     "name": "stdout",
     "output_type": "stream",
     "text": [
      "Enter the name of an item: hot dog\n",
      "The file was deleted!\n"
     ]
    }
   ],
   "source": [
    "# Example: modifying specific records in the fastfood.txt file\n",
    "import os           # needed for the remove and rename file functions\n",
    "\n",
    "# create a flag variable for the search process\n",
    "found = False\n",
    "\n",
    "# Search criteria for the desired record\n",
    "search = input('Enter the name of an item: ')\n",
    "\n",
    "# open original file for reading\n",
    "food_file = open('fastfood.txt', 'r')\n",
    "\n",
    "# open a temporary file for writing the changes\n",
    "temp_file = open('temp.txt', 'w')\n",
    "\n",
    "# Find the item - read the name of the first item (priming read)\n",
    "item = food_file.readline().rstrip('\\n')\n",
    "\n",
    "# Process the file until an empty string is returned\n",
    "while item != '':\n",
    "    \n",
    "    # read the rest of the record\n",
    "    sell_price = float(food_file.readline())\n",
    "    cost = float(food_file.readline())\n",
    "    category = food_file.readline().rstrip('\\n')\n",
    "    \n",
    "    \n",
    "    \n",
    "    # Either write the record to the temp file or\n",
    "    # the new data if this is the desired record.\n",
    "    if item == search:\n",
    "        temp_file.write('')\n",
    "        temp_file.write('')\n",
    "        temp_file.write('')\n",
    "        temp_file.write('')\n",
    "        \n",
    "        found = True\n",
    "        \n",
    "    else:\n",
    "        temp_file.write(item + '\\n')\n",
    "        temp_file.write(str(sell_price) + '\\n')\n",
    "        temp_file.write(str(cost) + '\\n')\n",
    "        temp_file.write(category + '\\n')\n",
    "    \n",
    "    # read the name of the next item\n",
    "    item = food_file.readline().rstrip('\\n')\n",
    "\n",
    "#close both files\n",
    "food_file.close()\n",
    "temp_file.close()\n",
    "\n",
    "# Delete the original file\n",
    "os.remove('fastfood.txt')\n",
    "\n",
    "# Change the name of the temporary file to the original file name\n",
    "os.rename('temp.txt', 'fastfood.txt')\n",
    "\n",
    "# Tell the user if we found the item\n",
    "if found:\n",
    "    print('The file was deleted!')\n",
    "else: \n",
    "    print('The file could not be found, please try again.')"
   ]
  },
  {
   "cell_type": "markdown",
   "metadata": {},
   "source": [
    "## Programming Exercises\n",
    "Using the **fastfood.txt** file as data,\n",
    "- write a program that allows the user to add records.\n",
    "- write a program that allows the user to delete records.\n",
    "\n",
    "##### Add a degree of difficulty?\n",
    "Add a confirmation step to the delete program, like\n",
    "```\n",
    "Are you sure you want to delete this record? YES or NO\n",
    "```\n",
    "\n",
    "Alllow the user to say \"no\" and the record is not deleted."
   ]
  },
  {
   "cell_type": "code",
   "execution_count": null,
   "metadata": {},
   "outputs": [],
   "source": []
  }
 ],
 "metadata": {
  "kernelspec": {
   "display_name": "Python 3",
   "language": "python",
   "name": "python3"
  },
  "language_info": {
   "codemirror_mode": {
    "name": "ipython",
    "version": 3
   },
   "file_extension": ".py",
   "mimetype": "text/x-python",
   "name": "python",
   "nbconvert_exporter": "python",
   "pygments_lexer": "ipython3",
   "version": "3.6.5"
  }
 },
 "nbformat": 4,
 "nbformat_minor": 2
}

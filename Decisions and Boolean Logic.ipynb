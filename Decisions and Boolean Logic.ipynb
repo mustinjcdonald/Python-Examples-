{
 "cells": [
  {
   "cell_type": "markdown",
   "metadata": {},
   "source": [
    "# 04 Decision Structures and Boolean Logic\n",
    "Remember that it takes three types of statements to write a program:\n",
    "1.\tSequential structure – statements execute in the order they appear, top to bottom (what we have been doing up to now).\n",
    "2.\tDecision structures – control the order of execution of statements based on the results of a comparison(this class).\n",
    "3.\tRepetition structures – cause a set of statements to execute repeatedly (next class)\n",
    "\n"
   ]
  },
  {
   "cell_type": "markdown",
   "metadata": {},
   "source": [
    "## Making decisions\n",
    "In order to make a decision we have to compare at least two items. That is where **_Boolean expressions_** and **_relational operators_** come in.\n",
    "- Boolean means that only values of True and False are considered.\n",
    "\n",
    "Relational operators determine if a specific relationship exists between two values. There is an implied question in each statement when you use a relational operator. The answer to that question is either True or False.\t\n",
    " - Python's relational operators are `>`, `<`, `>=`, `<=`, `==` means \"equal to\", `!=` means \"not equal to\"\n"
   ]
  },
  {
   "cell_type": "markdown",
   "metadata": {},
   "source": [
    "Here are some example expressions and their implied questions.\n",
    "\n",
    "|<p style=\"text-align:center;\"> Expression </p>|  | <p style=\"text-align:left;\">Implied Question</p>|\n",
    "| --- | --- | --- |\n",
    "|<p style=\"text-align:center;\">a > b </p> | |<p style=\"text-align:left;\"> Is a greater than b?</p>|\n",
    "|<p style=\"text-align:center;\">a <= b </p> | |<p style=\"text-align:left;\"> Is a less than or equal to b?</p>|\n",
    "|<p style=\"text-align:center;\">a == b </p> | |<p style=\"text-align:left;\"> Is a equal to b?</p>|\n",
    "|<p style=\"text-align:center;\">a != b </p> | |<p style=\"text-align:left;\"> Is a not equal to b?</p>|\n",
    "|<p style=\"text-align:center;\">3a >= 27.5 + 2by </p>  | |<p style=\"text-align:left;\">  Is 3 times a greater than or equal to the sum of 27.5 and 2 times b?</p>|\n",
    "\n",
    "What is the value of the following expressions, True or False? Figure it out, then run the code to check."
   ]
  },
  {
   "cell_type": "code",
   "execution_count": null,
   "metadata": {},
   "outputs": [],
   "source": [
    "1 <= 1"
   ]
  },
  {
   "cell_type": "code",
   "execution_count": null,
   "metadata": {},
   "outputs": [],
   "source": [
    "1 < 1"
   ]
  },
  {
   "cell_type": "code",
   "execution_count": null,
   "metadata": {},
   "outputs": [],
   "source": [
    "1 == 1"
   ]
  },
  {
   "cell_type": "code",
   "execution_count": null,
   "metadata": {},
   "outputs": [],
   "source": [
    "1 = 1"
   ]
  },
  {
   "cell_type": "markdown",
   "metadata": {},
   "source": [
    "Remember, these operators are _testing the relationship by making a comparison_. They are not making an assignment."
   ]
  },
  {
   "cell_type": "markdown",
   "metadata": {},
   "source": [
    "## How many choices does your decision structure include?\n",
    "\n",
    "We make decisions every day at school, at work, at home, and everywhere in between. They are important enough in business that we talk about decisions alot in business classes, and in MIS classes we talk about using technology to provide support for decision making. One aspect we don't talk about much (until now) is how many choices you have in your decision making situations. For our purposes you can decide between two alternatives or more than two.\n",
    "\n",
    "Here are examples:\n",
    "\n",
    "- You are at your parents' house for the summer. One day your mom asks you, \"would you like a sandwich?\" This situation has you choose between two alternatives: taking an action and doing nothing.\n",
    "- You say yes to the sandwich so she asks, \"would you like ham or turkey on your sandwich?\" There are also two possible actions in this case because you are either going to pick the ham or the turkey, but you have to pick one of them. There are no other possible choices and doing nothing is no longer an option.\n",
    "- After lunch your dad says, \"I need your help this afternoon. Are you going to mow the yard, pull weeds, trim the dead branches in the back yard, or take your sister to the pool?\" Now there are many choices. And doing nothing might still be a choice (though maybe not a smart one)."
   ]
  },
  {
   "cell_type": "markdown",
   "metadata": {},
   "source": [
    "### Two choices\n",
    "The `if...else` structure allows you to specify two and only two execution paths, like the \"ham or turkey\" situation. The code has to go in one direction or the other. One path is if the condition is True, the other if the condition is False.\n",
    "\n",
    "General format:\n",
    "```\n",
    "if condition:\n",
    "\tstatement\n",
    "\tstatement\n",
    "\tetc.\n",
    "else:\n",
    "\tstatement\n",
    "\tstatement\n",
    "\tetc.\n",
    "```\n",
    "\n",
    "The block of statements after the condition and colon are indented and there is a blank line after the block. That tells Python the statements are part of the if block.\n",
    "\n",
    "When the condition is `True`, the statements below it are executed until execution reaches the `else`. When the statement is `False`, they are skipped and only the statements below the `else` clause are executed."
   ]
  },
  {
   "cell_type": "code",
   "execution_count": null,
   "metadata": {},
   "outputs": [],
   "source": [
    "# Example: deciding between two options\n",
    "income = int(input('Enter your gross income: '))\n",
    "if income <= 45000:\n",
    "    tax_rate = 0.16\n",
    "    tax_bracket_name = \"Low\"\n",
    "else:                                # code that runs when income > 45000\n",
    "    tax_rate = 0.185\n",
    "    tax_bracket_name = \"High\"\n",
    "\n",
    "tax_amount = tax_rate * income\n",
    "print('You owe $', format(tax_amount, ',.2f'), ' in taxes')\n"
   ]
  },
  {
   "cell_type": "markdown",
   "metadata": {},
   "source": [
    "### Two choices, but one of them is to do nothing\n",
    "If your decision consists of two possible choices, we use the `if...else` structure we just covered. However, if one of the choices is to do nothing (like with \"do you want a sandwich?\"), we can eliminate the now pointless `else` clause.\n",
    "\n",
    "With just the `if` condition specified, an action is performed (or code is run) only if the specified condition is True.\n",
    "\n",
    "General format:\n",
    "```\n",
    "if condition:\n",
    "\tstatement\n",
    "\tstatement\n",
    "\tetc.\n",
    "    \n",
    "```\n",
    "The block of statements after the condition and colon use the same indentation and whitespace as before so Python knows what is and isn't part of the `if` block.\n",
    "\n",
    "When the condition is `True`, the statements below it are executed. Otherwise they are skipped, and nothing changes.\n",
    "\n",
    "This form of the `if` block comes up regularly in business programming in situations like adding optional fees or custom product features.\n"
   ]
  },
  {
   "cell_type": "code",
   "execution_count": null,
   "metadata": {},
   "outputs": [],
   "source": [
    "# Example\n",
    "income = float(input('Enter income: '))\n",
    "if income <= 45000:\n",
    "    tax_rate = 0.16\n",
    "    tax_bracket_name = 'Low'\n",
    "\n",
    "tax_amount = tax_rate * income\n",
    "print('You owe $', format(tax_amount, ',.2f'), ' in taxes')\n"
   ]
  },
  {
   "cell_type": "markdown",
   "metadata": {},
   "source": [
    "### More than two choices\n",
    "If you have multiple execution paths possible, use the `if...elif...else` structure.\n",
    "\n",
    "General format:\n",
    "```\n",
    "if condition_1:\n",
    "\tstatement\n",
    "\tetc.\n",
    "elif condition_2:\n",
    "\tstatement\n",
    "\tstatement\n",
    "\tetc.\n",
    "elif condition_3:\n",
    "\tstatement\n",
    "\tetc.\n",
    "...\n",
    "as many elif conditions as you need\n",
    "...\n",
    "else:\n",
    "\tstatement\n",
    "\tstatement\n",
    "\tetc.\n",
    "\n",
    "```\n",
    "The conditions are tested in order, beginning with the condition in the `if` statement. If a condition is `False`, the code beneath it is skipped and the next condition is tested. That process continues until a condition is `True`, then that code is executed and the rest of the code in the decision block is skipped.\n",
    "\n",
    "Always use the `else` clause on the end. It provides a default action in case none of the other paths result in a `True` value.\n"
   ]
  },
  {
   "cell_type": "code",
   "execution_count": null,
   "metadata": {},
   "outputs": [],
   "source": [
    "# Example: if...elif...else\n",
    "final_grade = int(input(\"Input your final numeric grade => \"))\n",
    "if final_grade >= 90:\n",
    "    letter_grade = \"A\"\n",
    "elif final_grade >= 80:\n",
    "    letter_grade = \"B\"\n",
    "elif final_grade >= 70:\n",
    "    letter_grade = \"C\"\n",
    "elif final_grade >= 60:\n",
    "    letter_grade = \"D\"\n",
    "else:\n",
    "    letter_grade = \"F\"\n",
    "    \n",
    "print(\"Your letter grade is\", letter_grade)\n"
   ]
  },
  {
   "cell_type": "markdown",
   "metadata": {},
   "source": [
    "See how the previous example tests ranges of numbers without having to specify the ranges? We'll talk about the logic behind that method. Spoiler alert: it involves the number line you learned about in elementary school."
   ]
  },
  {
   "cell_type": "markdown",
   "metadata": {},
   "source": [
    "#### Nested decision structures\n",
    "`if` blocks can be put inside one another to test a series of conditions. In general, only use this if you absolutely have to. It often gets very difficult to follow the logic involved. Use the `if...elif...else` instead or figure out another way to solve the problem.\n"
   ]
  },
  {
   "cell_type": "code",
   "execution_count": null,
   "metadata": {
    "scrolled": true
   },
   "outputs": [],
   "source": [
    "# Example: nested ifs\n",
    "income = int(input('Enter your gross income: '))\n",
    "age = int(input(\"Enter your age: \"))\n",
    "\n",
    "if income <= 45000:\n",
    "    tax_rate = 0.16\n",
    "    tax_bracket_name = \"Low\"\n",
    "    if age >= 60:\n",
    "        age_label = \"Old\"\n",
    "    else:\n",
    "        age_label = \"Young\"\n",
    "else:                            # code that runs when income > 45000\n",
    "    tax_rate = 0.185\n",
    "    tax_bracket_name = \"High\"\n"
   ]
  },
  {
   "cell_type": "markdown",
   "metadata": {},
   "source": [
    "### Text menus\n",
    "Use `print()` to display choices and `input()` to capture the user's choice. Then execute the appropriate code based on that choice. Note the use of the `else` clause here to take care of any entry errors."
   ]
  },
  {
   "cell_type": "code",
   "execution_count": null,
   "metadata": {},
   "outputs": [],
   "source": [
    "# Example: text menus\n",
    "print(\"1     To continue in English\")\n",
    "print(\"2     To continue in Spanish\")\n",
    "print(\"3     To continue in French\")\n",
    "menu_choice = int(input(\"Enter the number of your choice: \"))\n",
    "if menu_choice == 1:\n",
    "    print(\"English\")\n",
    "elif menu_choice == 2:\n",
    "    print(\"Spanish\")\n",
    "elif menu_choice == 3:\n",
    "    print(\"French\")\n",
    "else:\n",
    "    print(\"Your entry was not correct. Please try again.\")\n"
   ]
  },
  {
   "cell_type": "markdown",
   "metadata": {},
   "source": [
    "## Logical operators: and, or, & not\n",
    "The logical operators `and` & `or` combine two or more Boolean expressions into one. Sometimes this can be very helpful but it can also be confusing. Only use them if it is the best way to solve the problem.\n",
    "- With _**and**_ both parts have to be True for the combined expression to be True.\n",
    "- With _**or**_ just one of the parts has to be True for the combined expression to be True (but both can be True).\n",
    "\n",
    "The `not` operator only works with one Boolean expression.\n",
    "- _**not**_ reverses the truth value of its accompanying expression – a True expression becomes False, a False expression becomes True.\n",
    "\n",
    "Try to build expressions with the most critical criteria in the first position. Both `and` & `or` use **short circuit evaluation**.\n",
    "- for `and`: if the first criteria is False, there is no need to check the second one.\n",
    "- for `or`: if the first criteria is True, there is no need to check the second one.\n",
    "\n",
    "Use `and` to check for values inside a range and `or` to check for values outside a range.\n",
    "\n",
    "Avoid using these operators unless there is no other option. New programmers (and experienced ones, too!) often get the logic mixed up when using them.\n"
   ]
  },
  {
   "cell_type": "code",
   "execution_count": null,
   "metadata": {},
   "outputs": [],
   "source": [
    "#Example: logical operators\n",
    "final_grade = int(input(\"Input your final numeric grade => \"))\n",
    "if final_grade >= 90:\n",
    "    letter_grade = \"A\"\n",
    "elif final_grade >= 80:\n",
    "    letter_grade = \"B\"\n",
    "elif final_grade >= 70:\n",
    "    letter_grade = \"C\"\n",
    "elif final_grade >= 60:\n",
    "    letter_grade = \"D\"\n",
    "else:\n",
    "    letter_grade = \"F\"\n",
    "    \n",
    "income = int(input('Enter your gross income: '))\n",
    "\n",
    "if (income <= 45000) and (letter_grade.upper() == \"A\"):\n",
    "    print(\"You’re getting a big bonus!\")\n",
    "elif (income <= 45000) or (final_grade >= 80):\n",
    "    print(\"You’re getting a gift card\")\n",
    "elif not (letter_grade.upper() == \"A\"):\n",
    "    print(\"Thanks for taking our class\")\n",
    "else:\n",
    "    print(\"Not sure who lands here.\")\n"
   ]
  },
  {
   "cell_type": "markdown",
   "metadata": {},
   "source": [
    "## Boolean variables\n",
    "Variables of the `bool` data type contain only one of two values: `True` or `False`.\n",
    "\n",
    "They are often used as **flags**, which are variables that signal if some condition exists or has changed in the program. To use a flag, initialize the Boolean variable to either `True` or `False` (whichever makes more logical sense) and then have the code change the value when something happens."
   ]
  },
  {
   "cell_type": "code",
   "execution_count": null,
   "metadata": {},
   "outputs": [],
   "source": [
    "# Example: flag\n",
    "final_grade = int(input(\"Input your final numeric grade => \"))\n",
    "passed_class = False\n",
    "print(passed_class)\n",
    "\n",
    "if final_grade > 59:\n",
    "    passed_class = True\n",
    "\n",
    "print(passed_class)\n",
    "\n",
    "if passed_class:\n",
    "    print(\"You passed!\")\n",
    "\n",
    "# Notice how we don't have to explicitly test to see if passed_class is True."
   ]
  },
  {
   "cell_type": "markdown",
   "metadata": {},
   "source": [
    "## Programming Exercises"
   ]
  },
  {
   "cell_type": "markdown",
   "metadata": {},
   "source": [
    "- Write a program that displays the sky descriptor based upon the cloud cover percentage entered by the user. Structure your program so it doesn’t use `and` or `or`.\n",
    "\n",
    "|<p style=\"text-align:center;\">Percentage of cloud cover\t|<p style=\"text-align:center;\">Descriptor|\n",
    "| --- | --- |\n",
    "|<p style=\"text-align:center;\">0-30\t|<p style=\"text-align:center;\">Clear|\n",
    "|<p style=\"text-align:center;\">31-70\t|<p style=\"text-align:center;\">Partly cloudy|\n",
    "|<p style=\"text-align:center;\">71-99\t|<p style=\"text-align:center;\">Cloudy|\n",
    "|<p style=\"text-align:center;\">100\t|<p style=\"text-align:center;\">Overcast|\n"
   ]
  },
  {
   "cell_type": "markdown",
   "metadata": {},
   "source": [
    "- The UCA library needs a program to determine where books are located based upon the call numbers. Use the table below to write that program. Get the call number from the user and display the location.  Work out the solution before you start coding.\n",
    "\n",
    "|<p style=\"text-align:left;\">Call Numbers\t|<p style=\"text-align:left;\">Location\n",
    "| --- | --- |\n",
    "|<p style=\"text-align:left;\">100 to 199\t|<p style=\"text-align:left;\">Basement\n",
    "|<p style=\"text-align:left;\">200 to 500 and over 900\t|<p style=\"text-align:left;\">Main floor\n",
    "|<p style=\"text-align:left;\">501 to 900 except 700 to 750\t|<p style=\"text-align:left;\">Upper floor\n",
    "|<p style=\"text-align:left;\">700 to 750\t|<p style=\"text-align:left;\">Archives \n"
   ]
  },
  {
   "attachments": {
    "Tax%20flowchart.png": {
     "image/png": "[encoded data removed]"
    }
   },
   "cell_type": "markdown",
   "metadata": {},
   "source": [
    "- Write the code to implement the tax calculation shown in the flowchart\n",
    "![Tax%20flowchart.png](attachment:Tax%20flowchart.png)"
   ]
  },
  {
   "cell_type": "code",
   "execution_count": null,
   "metadata": {},
   "outputs": [],
   "source": []
  }
 ],
 "metadata": {
  "kernelspec": {
   "display_name": "Python 3",
   "language": "python",
   "name": "python3"
  },
  "language_info": {
   "codemirror_mode": {
    "name": "ipython",
    "version": 3
   },
   "file_extension": ".py",
   "mimetype": "text/x-python",
   "name": "python",
   "nbconvert_exporter": "python",
   "pygments_lexer": "ipython3",
   "version": "3.6.5"
  }
 },
 "nbformat": 4,
 "nbformat_minor": 2
}

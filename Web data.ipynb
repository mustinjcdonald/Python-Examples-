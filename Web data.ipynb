{
 "cells": [
  {
   "cell_type": "markdown",
   "metadata": {},
   "source": [
    "# 19 Web data\n",
    "File(s) needed: "
   ]
  },
  {
   "attachments": {
    "Scraping%20Python%20cover.jpg": {
     "image/jpeg": "[encoded data removed]"
    }
   },
   "cell_type": "markdown",
   "metadata": {},
   "source": [
    "If you are looking for more info on getting data from Web pages, consider this book:\n",
    "```\n",
    "\"Web Scraping with Python: Collecting Data From the Modern Web\" by Ryan Mitchell.\n",
    "ISBN: 978-1-491-91029-0 (First edition - there is a second edition out now)\n",
    "Publisher: O'Reilly.\n",
    "```\n",
    "\n",
    "![Scraping%20Python%20cover.jpg](attachment:Scraping%20Python%20cover.jpg)\n",
    "\n",
    "Online version available at https://www.oreilly.com/library/view/web-scraping-with/9781491985564/\n",
    "\n",
    "Printed copy is available wherever fine books are sold.\n",
    "\n",
    "There are many other good references available out there, too. Please share if you find one you feel is especially useful.\n",
    "\n",
    "---"
   ]
  },
  {
   "cell_type": "markdown",
   "metadata": {},
   "source": [
    "There are many ways we can get data from Web pages. We will talk a little about web scraping and using APIs to give you an introduction to both topics. "
   ]
  },
  {
   "cell_type": "markdown",
   "metadata": {},
   "source": [
    "## Web scraping\n",
    "Anyone who has done any work on a Web page knows how HTML is structured. Web scraping takes advantage of the structure used to build Web pages in order to extract their parts.\n",
    "\n",
    "We need two main tools to be able to do that:\n",
    "- a way to open and read Web pages\n",
    "- a way to make sense of their contents"
   ]
  },
  {
   "cell_type": "markdown",
   "metadata": {},
   "source": [
    "### Open and read Web pages\n",
    "\n",
    "Python has a standard library called \"urllib\" we will use to make the connection to Web pages and read their contents.\n",
    "\n",
    "More on it is available at https://docs.python.org/3/library/urllib.html\n",
    "\n",
    "We will use the `urlopen` function from the `request` module. When we use the `read()` method, we get the HTML contents of a Web page. In the example below, we will get the contents from a small Web page. Look at the page separatley in a browser to see what will be scraped."
   ]
  },
  {
   "cell_type": "code",
   "execution_count": 3,
   "metadata": {},
   "outputs": [],
   "source": [
    "from urllib.request import urlopen"
   ]
  },
  {
   "cell_type": "code",
   "execution_count": 2,
   "metadata": {
    "scrolled": true
   },
   "outputs": [
    {
     "ename": "NameError",
     "evalue": "name 'urlopen' is not defined",
     "output_type": "error",
     "traceback": [
      "\u001b[1;31m---------------------------------------------------------------------------\u001b[0m",
      "\u001b[1;31mNameError\u001b[0m                                 Traceback (most recent call last)",
      "\u001b[1;32m<ipython-input-2-24b7ffa67ece>\u001b[0m in \u001b[0;36m<module>\u001b[1;34m()\u001b[0m\n\u001b[1;32m----> 1\u001b[1;33m \u001b[0mhtml\u001b[0m \u001b[1;33m=\u001b[0m \u001b[0murlopen\u001b[0m\u001b[1;33m(\u001b[0m\u001b[1;34m\"http://pythonscraping.com/pages/page1.html\"\u001b[0m\u001b[1;33m)\u001b[0m\u001b[1;33m.\u001b[0m\u001b[0mread\u001b[0m\u001b[1;33m(\u001b[0m\u001b[1;33m)\u001b[0m\u001b[1;33m\u001b[0m\u001b[0m\n\u001b[0m\u001b[0;32m      2\u001b[0m \u001b[0mprint\u001b[0m\u001b[1;33m(\u001b[0m\u001b[0mhtml\u001b[0m\u001b[1;33m)\u001b[0m\u001b[1;33m\u001b[0m\u001b[0m\n",
      "\u001b[1;31mNameError\u001b[0m: name 'urlopen' is not defined"
     ]
    }
   ],
   "source": [
    "html = urlopen(\"http://pythonscraping.com/pages/page1.html\").read()\n",
    "print(html)"
   ]
  },
  {
   "cell_type": "markdown",
   "metadata": {},
   "source": [
    "Let's do the same thing with the UCA MIS Faculty & Staff page."
   ]
  },
  {
   "cell_type": "code",
   "execution_count": 4,
   "metadata": {},
   "outputs": [
    {
     "name": "stdout",
     "output_type": "stream",
     "text": [
      "b'\\n<!DOCTYPE html PUBLIC \"-//W3C//DTD XHTML 1.0 Transitional//EN\" \"http://www.w3.org/TR/xhtml1/DTD/xhtml1-transitional.dtd\">\\n<html xmlns=\"http://www.w3.org/1999/xhtml\" lang=\"en-US\" xml:lang=\"en-US\">\\n<head profile=\"http://gmpg.org/xfn/11\">\\n<meta http-equiv=\"Content-Type\" content=\"text/html; charset=UTF-8\" />\\n<title>Faculty and Staff \\xe2\\x80\\x94 Management Information Systems</title><title>Faculty and Staff - Management Information Systems</title><meta property=\"twitter:account_id\" content=\"17534813\" /><meta name=\"twitter:card\" content=\"summary\" /><meta name=\"twitter:site\" content=\"@ucabears\" /><meta name=\"twitter:title\" content=\"University of Central Arkansas | UCA\" /><meta name=\"twitter:description\" content=\"Academic excellence, a vibrant campus, D1 athletics and an energetic college town, all help prepare our students for success here and everywhere else.\" /><meta name=\"twitter:image\" content=\"https://c2.staticflickr.com/2/1632/buddyicons/37331606@N05_r.jpg\" /><meta name=\"PageId\" content=\"283\"/><meta name=\"subsite\" value=\"http://uca.edu/mis\"/>\\t\\t<meta name=\"robots\" content=\"noodp,noydir\" />\\n\\t\\t<meta name=\"viewport\" content=\"width=device-width, initial-scale=1\" />\\n<link rel=\\'dns-prefetch\\' href=\\'//fonts.googleapis.com\\' />\\n<link rel=\"alternate\" type=\"application/rss+xml\" title=\"Management Information Systems &raquo; Feed\" href=\"http://uca.edu/mis/feed/\" />\\n<link rel=\"alternate\" type=\"application/rss+xml\" title=\"Management Information Systems &raquo; Comments Feed\" href=\"http://uca.edu/mis/comments/feed/\" />\\n<link rel=\"alternate\" type=\"application/rss+xml\" title=\"Management Information Systems &raquo; Faculty and Staff Feed\" href=\"http://uca.edu/mis/facultystaff/feed/\" />\\n<link rel=\\'stylesheet\\' id=\\'themedy-shortcodes-style-css\\'  href=\\'http://uca.edu/mis/wp-content/plugins/themedy-visual-designer/css/shortcodes.css?ver=1\\' type=\\'text/css\\' media=\\'screen\\' />\\n<link rel=\\'stylesheet\\' id=\\'ursidae-style-css\\'  href=\\'http://uca.edu/mis/wp-content/themes/ursidae/style.css?ver=3.2\\' type=\\'text/css\\' media=\\'screen\\' />\\n<link rel=\\'stylesheet\\' id=\\'icons-css\\'  href=\\'http://uca.edu/mis/wp-content/themes/ursidae/icons.php?ver=4.9.1\\' type=\\'text/css\\' media=\\'all\\' />\\n<link rel=\\'stylesheet\\' id=\\'google-font-css\\'  href=\\'//fonts.googleapis.com/css?family=Source+Sans+Pro%3A300%2C400%2C600%7CMaterial+Icons&#038;ver=2.5.3\\' type=\\'text/css\\' media=\\'all\\' />\\n<link rel=\\'stylesheet\\' id=\\'meanmenu-css-css\\'  href=\\'http://uca.edu/mis/wp-content/themes/ursidae/js/meanmenu/meanmenu.css?ver=2.0.6\\' type=\\'text/css\\' media=\\'all\\' />\\n<link rel=\\'stylesheet\\' id=\\'ursidae_print_style-css\\'  href=\\'http://uca.edu/mis/wp-content/themes/ursidae/print.css?ver=1.0.0\\' type=\\'text/css\\' media=\\'print\\' />\\n<!--[if lt IE 9]>\\n<script type=\\'text/javascript\\' src=\\'http://uca.edu/mis/wp-content/themes/genesis/lib/js/html5shiv.js?ver=3.7.3\\'></script>\\n<![endif]-->\\n<script type=\\'text/javascript\\' src=\\'http://uca.edu/mis/wp-includes/js/jquery/jquery.js?ver=1.12.4\\'></script>\\n<script type=\\'text/javascript\\' src=\\'http://uca.edu/mis/wp-includes/js/jquery/jquery-migrate.min.js?ver=1.4.1\\'></script>\\n<link rel=\\'https://api.w.org/\\' href=\\'http://uca.edu/mis/wp-json/\\' />\\n<link rel=\"EditURI\" type=\"application/rsd+xml\" title=\"RSD\" href=\"https://uca.edu/mis/xmlrpc.php?rsd\" />\\n<script type=\\'text/javascript\\'>\\n  (function(i,s,o,g,r,a,m){i[\\'GoogleAnalyticsObject\\']=r;i[r]=i[r]||function(){\\n  (i[r].q=i[r].q||[]).push(arguments)},i[r].l=1*new Date();a=s.createElement(o),\\n  m=s.getElementsByTagName(o)[0];a.async=1;a.src=g;m.parentNode.insertBefore(a,m)\\n  })(window,document,\\'script\\',\\'https://www.google-analytics.com/analytics.js\\',\\'ga\\');\\n\\n  ga(\\'create\\', \\'UA-11400225-1\\', \\'auto\\');\\n  ga(\\'send\\', \\'pageview\\');\\n</script>\\t<!-- Google Tag Manager -->\\n\\t<script>(function(w,d,s,l,i){w[l]=w[l]||[];w[l].push({\\'gtm.start\\':\\n\\tnew Date().getTime(),event:\\'gtm.js\\'});var f=d.getElementsByTagName(s)[0],\\n\\tj=d.createElement(s),dl=l!=\\'dataLayer\\'?\\'&l=\\'+l:\\'\\';j.async=true;j.src=\\n\\t\\'https://www.googletagmanager.com/gtm.js?id=\\'+i+dl;f.parentNode.insertBefore(j,f);\\n\\t})(window,document,\\'script\\',\\'dataLayer\\',\\'GTM-K5SNJNG\\');</script>\\n\\t<!-- End Google Tag Manager -->\\n<link rel=\"icon\" href=\"http://uca.edu/mis/wp-content/themes/ursidae/images/favicon.ico\" />\\n<link rel=\"pingback\" href=\"http://uca.edu/mis/xmlrpc.php\" />\\n<link rel=\"next\" href=\"http://uca.edu/mis/facultystaff/page/2/\" />\\n</head>\\n<body class=\"archive post-type-archive post-type-archive-facultystaff header-full-width full-width-content\">\\t<!-- Google Tag Manager (noscript) -->\\n\\t<noscript><iframe src=\"https://www.googletagmanager.com/ns.html?id=GTM-K5SNJNG\"\\n\\theight=\"0\" width=\"0\" style=\"display:none;visibility:hidden\"></iframe></noscript>\\n\\t<!-- End Google Tag Manager (noscript) -->\\n<div id=\"wrap\"><div id=\"header\"><div class=\"wrap\"><div class=\"site-image\"><a href=\"http://uca.edu/\"><img src=\"http://uca.edu/mis/wp-content/themes/ursidae/images/logo.png\" alt=\"University of Central Arkansas Logo\" /></a></div><div id=\"title-area\"><p id=\"title\"><a href=\"http://uca.edu/mis/\">Management Information Systems</a></p></div></div></div><div class=\"menu-toggle\"><span><a href=\"#\">Menu</a></span></div><div id=\"nav\">\\r\\n\\t<div class=\"wrap\">\\r\\n\\t<ul id=\"menu-common\" class=\"menu menu-primary\">\\r\\n\\t\\t<li><a href=\"http://uca.edu\">UCA Home</a></li>\\r\\n\\t\\t<li><a href=\"http://uca.edu/admissions-home/\">Admissions</a></li>\\r\\n\\t\\t<li><a href=\"http://uca.edu/academics-home/\">Academics</a></li>\\r\\n\\t\\t<li><a href=\"http://uca.edu/student-life/\">Student Life</a></li>\\r\\n\\t\\t<li><a href=\"http://uca.edu/athletics/\">Athletics</a></li>\\r\\n\\t\\t<li><a href=\"http://uca.edu/alumni-and-friends/\">Connect</a></li>\\r\\n\\t\\t<li><a href=\"http://uca.edu/about-uca/\">About UCA</a></li>\\r\\n\\t\\t<li><a href=\"http://uca.edu/atoz/\">A to Z</a></li>\\r\\n\\t</ul>\\r\\n\\t</div><!-- end .wrap -->\\r\\n</div>\\r\\n<div id=\"subnav\"><div class=\"wrap\"><ul id=\"menu-main\" class=\"menu genesis-nav-menu menu-secondary js-superfish\"><li id=\"menu-item-185\" class=\"menu-item menu-item-type-custom menu-item-object-custom menu-item-185\"><a href=\"http://uca.edu/business/\">COB Home</a></li>\\n<li id=\"menu-item-324\" class=\"menu-item menu-item-type-custom menu-item-object-custom menu-item-324\"><a href=\"http://uca.edu/business/programs\">Programs of Study</a></li>\\n<li id=\"menu-item-325\" class=\"menu-item menu-item-type-custom menu-item-object-custom menu-item-325\"><a href=\"http://uca.edu/business/cob-student-life\">COB Student Life</a></li>\\n<li id=\"menu-item-326\" class=\"menu-item menu-item-type-custom menu-item-object-custom menu-item-has-children menu-item-has-children menu-item-326\"><a href=\"http://uca.edu/business/about\">About Us</a>\\n<ul class=\"sub-menu\">\\n\\t<li id=\"menu-item-327\" class=\"menu-item menu-item-type-custom menu-item-object-custom menu-item-327\"><a href=\"http://uca.edu/business/about/deans-welcome/\">Dean&#8217;s Welcome</a></li>\\n\\t<li id=\"menu-item-328\" class=\"menu-item menu-item-type-custom menu-item-object-custom menu-item-328\"><a href=\"http://uca.edu/business/facultystaff/\">Dean&#8217;s Staff</a></li>\\n\\t<li id=\"menu-item-329\" class=\"menu-item menu-item-type-custom menu-item-object-custom menu-item-329\"><a href=\"http://uca.edu/business/about/aacsb\">AACSB Accreditation</a></li>\\n\\t<li id=\"menu-item-330\" class=\"menu-item menu-item-type-custom menu-item-object-custom menu-item-has-children menu-item-has-children menu-item-330\"><a href=\"#\">Vision &amp; Mission</a>\\n\\t<ul class=\"sub-menu\">\\n\\t\\t<li id=\"menu-item-331\" class=\"menu-item menu-item-type-custom menu-item-object-custom menu-item-331\"><a href=\"http://uca.edu/business/about/mission-statement/\">Vision &amp; Mission Statements</a></li>\\n\\t\\t<li id=\"menu-item-332\" class=\"menu-item menu-item-type-custom menu-item-object-custom menu-item-332\"><a target=\"_blank\" href=\"http://uca.edu/business/files/2014/08/StrategicPlan_07-25-14.pdf\">Strategic Priorities</a></li>\\n\\t</ul>\\n</li>\\n\\t<li id=\"menu-item-333\" class=\"menu-item menu-item-type-custom menu-item-object-custom menu-item-has-children menu-item-has-children menu-item-333\"><a target=\"_blank\" href=\"http://uca.edu/business/files/2016/08/CMHandbook-2015-Dec-Rev.pdf\">Learning Goals</a>\\n\\t<ul class=\"sub-menu\">\\n\\t\\t<li id=\"menu-item-334\" class=\"menu-item menu-item-type-custom menu-item-object-custom menu-item-334\"><a target=\"_blank\" href=\"http://uca.edu/business/files/2016/08/CMHandbook-2015-Dec-Rev.pdf#page=11\">BBA</a></li>\\n\\t\\t<li id=\"menu-item-335\" class=\"menu-item menu-item-type-custom menu-item-object-custom menu-item-335\"><a target=\"_blank\" href=\"http://uca.edu/business/files/2016/08/CMHandbook-2015-Dec-Rev.pdf#page=23\">BS-IS</a></li>\\n\\t\\t<li id=\"menu-item-336\" class=\"menu-item menu-item-type-custom menu-item-object-custom menu-item-336\"><a target=\"_blank\" href=\"http://uca.edu/business/files/2016/08/CMHandbook-2015-Dec-Rev.pdf#page=33\">BS/BA-ECON</a></li>\\n\\t\\t<li id=\"menu-item-337\" class=\"menu-item menu-item-type-custom menu-item-object-custom menu-item-337\"><a target=\"_blank\" href=\"http://uca.edu/business/files/2016/08/CMHandbook-2015-Dec-Rev.pdf#page=15\">MAcc</a></li>\\n\\t\\t<li id=\"menu-item-338\" class=\"menu-item menu-item-type-custom menu-item-object-custom menu-item-338\"><a target=\"_blank\" href=\"http://uca.edu/business/files/2016/08/CMHandbook-2015-Dec-Rev.pdf#page=19\">MBA</a></li>\\n\\t</ul>\\n</li>\\n\\t<li id=\"menu-item-339\" class=\"menu-item menu-item-type-custom menu-item-object-custom menu-item-has-children menu-item-has-children menu-item-339\"><a href=\"#\">Administration</a>\\n\\t<ul class=\"sub-menu\">\\n\\t\\t<li id=\"menu-item-340\" class=\"menu-item menu-item-type-custom menu-item-object-custom menu-item-340\"><a target=\"_blank\" href=\"http://uca.edu/business/files/2018/06/FacultyDevelopmentPlan_April2018.pdf\">Faculty Development Plan</a></li>\\n\\t\\t<li id=\"menu-item-341\" class=\"menu-item menu-item-type-custom menu-item-object-custom menu-item-341\"><a target=\"_blank\" href=\"http://uca.edu/business/files/2018/06/College-of-Business-Committee-Structure_August2016Approved.pdf\">Committee Structure</a></li>\\n\\t</ul>\\n</li>\\n\\t<li id=\"menu-item-342\" class=\"menu-item menu-item-type-custom menu-item-object-custom menu-item-342\"><a href=\"http://uca.edu/business/about/prebusiness-advising/\">Business Advising</a></li>\\n\\t<li id=\"menu-item-343\" class=\"menu-item menu-item-type-custom menu-item-object-custom menu-item-343\"><a href=\"http://uca.edu/business/about/cob-advisory-board/\">COB Advisory Board</a></li>\\n</ul>\\n</li>\\n<li id=\"menu-item-344\" class=\"menu-item menu-item-type-custom menu-item-object-custom menu-item-has-children menu-item-has-children menu-item-344\"><a href=\"http://uca.edu/business/alumni\">Alumni &amp; Friends</a>\\n<ul class=\"sub-menu\">\\n\\t<li id=\"menu-item-345\" class=\"menu-item menu-item-type-custom menu-item-object-custom menu-item-345\"><a href=\"http://uca.edu/business/alumni/stay-involved/\">Stay Involved</a></li>\\n\\t<li id=\"menu-item-346\" class=\"menu-item menu-item-type-custom menu-item-object-custom menu-item-346\"><a href=\"http://uca.edu/business/alumni/giving/\">Giving</a></li>\\n</ul>\\n</li>\\n<li id=\"menu-item-347\" class=\"menu-item menu-item-type-custom menu-item-object-custom menu-item-347\"><a href=\"http://uca.edu/business/events/\">Events</a></li>\\n<li id=\"menu-item-348\" class=\"menu-item menu-item-type-custom menu-item-object-custom menu-item-has-children menu-item-has-children menu-item-348\"><a href=\"#\">Faculty</a>\\n<ul class=\"sub-menu\">\\n\\t<li id=\"menu-item-349\" class=\"menu-item menu-item-type-custom menu-item-object-custom menu-item-349\"><a href=\"http://uca.edu/business/cob_facultystaff\">COB Faculty &amp; Staff</a></li>\\n</ul>\\n</li>\\n<li id=\"menu-item-350\" class=\"menu-item menu-item-type-custom menu-item-object-custom menu-item-home menu-item-350\"><a href=\"http://uca.edu/mis\">MIS Home</a></li>\\n</ul></div></div><div id=\"inner\"><div class=\"wrap\">\\n<div id=\"content-sidebar-wrap\">\\n\\n\\t\\t<div id=\"content\" class=\"hfeed\">\\n\\t\\n\\t\\n\\t\\t<div class=\"page type-page hentry\">\\n\\t\\t\\n\\t\\t\\t<h1 class=\"entry-title\">Faculty and Staff</h1>\\n\\t\\t\\t\\n\\t\\t\\t<div class=\"entry-content\">\\n\\n\\t\\t\\t\\t\\t\\t\\t<div class=\"fs_list\">\\n\\t\\t\\t\\t\\t<a href=\"http://uca.edu/mis/facultystaff/j-downey/\">\\t\\t\\t\\t\\t<div class=\"fs_thumb_image\">\\n\\t\\t\\t\\t\\t<img width=\"210\" height=\"280\" src=\"http://uca.edu/mis/files/2012/09/jdowney.jpg\" class=\"attachment-single-post-thumbnail size-single-post-thumbnail wp-post-image\" alt=\"Jim Downey\" srcset=\"https://uca.edu/mis/files/2012/09/jdowney.jpg 210w, https://uca.edu/mis/files/2012/09/jdowney-105x140.jpg 105w\" sizes=\"(max-width: 210px) 100vw, 210px\" />\\t\\t\\t\\t\\t</div>\\t\\t\\t\\t\\t<p class=\"fs_fullName\">Jim Downey, Chair</p>\\n\\t\\t\\t\\t\\t</a>\\t\\t\\t\\t\\t<p class=\"fs_title\">Professor of MIS</p>\\n\\t\\t\\t\\t\\t<p class=\"fs_email\"><a href=\\'mailto:jdowney@uca.edu\\'>jdowney@uca.edu</a></p>\\n\\t\\t\\t\\t\\t<p class=\"fs_extra\">COB 305J</p>\\n\\t\\t\\t\\t\\t<p class=\"fs_extra\">(501) 450-5327</p>\\n\\t\\t\\t\\t</div>\\n\\t\\t\\t\\t\\t\\t\\t<div class=\"fs_list\">\\n\\t\\t\\t\\t\\t<a href=\"http://uca.edu/mis/facultystaff/gbowling/\">\\t\\t\\t\\t\\t<div class=\"fs_thumb_image\">\\n\\t\\t\\t\\t\\t<img width=\"210\" height=\"280\" src=\"http://uca.edu/mis/files/2012/09/gbowling.jpg\" class=\"attachment-single-post-thumbnail size-single-post-thumbnail wp-post-image\" alt=\"Gay Bowling\" srcset=\"https://uca.edu/mis/files/2012/09/gbowling.jpg 210w, https://uca.edu/mis/files/2012/09/gbowling-105x140.jpg 105w\" sizes=\"(max-width: 210px) 100vw, 210px\" />\\t\\t\\t\\t\\t</div>\\t\\t\\t\\t\\t<p class=\"fs_fullName\">Gay Bowling</p>\\n\\t\\t\\t\\t\\t</a>\\t\\t\\t\\t\\t<p class=\"fs_title\">Administrative Specialist II</p>\\n\\t\\t\\t\\t\\t<p class=\"fs_email\"><a href=\\'mailto:lbowling@uca.edu\\'>lbowling@uca.edu</a></p>\\n\\t\\t\\t\\t\\t<p class=\"fs_extra\">COB 305</p>\\n\\t\\t\\t\\t\\t<p class=\"fs_extra\">(501) 450-3110</p>\\n\\t\\t\\t\\t</div>\\n\\t\\t\\t\\t\\t\\t\\t<div class=\"fs_list\">\\n\\t\\t\\t\\t\\t<a href=\"http://uca.edu/mis/facultystaff/cjbarber/\">\\t\\t\\t\\t\\t<div class=\"fs_thumb_image\">\\n\\t\\t\\t\\t\\t<img width=\"210\" height=\"280\" src=\"http://uca.edu/mis/files/2012/09/cjbarber.jpg\" class=\"attachment-single-post-thumbnail size-single-post-thumbnail wp-post-image\" alt=\"Carla J. Barber\" srcset=\"https://uca.edu/mis/files/2012/09/cjbarber.jpg 210w, https://uca.edu/mis/files/2012/09/cjbarber-105x140.jpg 105w\" sizes=\"(max-width: 210px) 100vw, 210px\" />\\t\\t\\t\\t\\t</div>\\t\\t\\t\\t\\t<p class=\"fs_fullName\">Carla J. Barber</p>\\n\\t\\t\\t\\t\\t</a>\\t\\t\\t\\t\\t<p class=\"fs_title\">Lecturer II of MIS</p>\\n\\t\\t\\t\\t\\t<p class=\"fs_email\"><a href=\\'mailto:cjbarber@uca.edu\\'>cjbarber@uca.edu</a></p>\\n\\t\\t\\t\\t\\t<p class=\"fs_extra\">COB 301</p>\\n\\t\\t\\t\\t\\t<p class=\"fs_extra\">(501) 450-5817</p>\\n\\t\\t\\t\\t</div>\\n\\t\\t\\t\\t\\t\\t\\t<div class=\"fs_list\">\\n\\t\\t\\t\\t\\t<a href=\"http://uca.edu/mis/facultystaff/kmcasey/\">\\t\\t\\t\\t\\t<div class=\"fs_thumb_image\">\\n\\t\\t\\t\\t\\t<img width=\"210\" height=\"280\" src=\"http://uca.edu/mis/files/2017/07/kmcasey.jpg\" class=\"attachment-single-post-thumbnail size-single-post-thumbnail wp-post-image\" alt=\"\" srcset=\"https://uca.edu/mis/files/2017/07/kmcasey.jpg 210w, https://uca.edu/mis/files/2017/07/kmcasey-105x140.jpg 105w\" sizes=\"(max-width: 210px) 100vw, 210px\" />\\t\\t\\t\\t\\t</div>\\t\\t\\t\\t\\t<p class=\"fs_fullName\">K. Mike Casey</p>\\n\\t\\t\\t\\t\\t</a>\\t\\t\\t\\t\\t<p class=\"fs_title\">Visiting Lecturer of MIS</p>\\n\\t\\t\\t\\t\\t<p class=\"fs_email\"><a href=\\'mailto:kmcasey@uca.edu\\'>kmcasey@uca.edu</a></p>\\n\\t\\t\\t\\t\\t<p class=\"fs_extra\">COB 305L</p>\\n\\t\\t\\t\\t\\t<p class=\"fs_extra\">(501) 450-5325</p>\\n\\t\\t\\t\\t</div>\\n\\t\\t\\t\\t\\t\\t\\t<div class=\"fs_list\">\\n\\t\\t\\t\\t\\t<a href=\"http://uca.edu/mis/facultystaff/bcollins/\">\\t\\t\\t\\t\\t<div class=\"fs_thumb_image\">\\n\\t\\t\\t\\t\\t<img src=\"http://uca.edu/mis/wp-content/plugins/uca/uca_template_files/images/no-image-210.png\" />\\n\\t\\t\\t\\t\\t</div>\\t\\t\\t\\t\\t<p class=\"fs_fullName\">Brandy Collins</p>\\n\\t\\t\\t\\t\\t</a>\\t\\t\\t\\t\\t<p class=\"fs_title\">Adjunct Instructor of MIS</p>\\n\\t\\t\\t\\t\\t<p class=\"fs_email\"><a href=\\'mailto:collinsb@conwayschools.net\\'>collinsb@conwayschools.net</a></p>\\n\\t\\t\\t\\t\\t<p class=\"fs_extra\">COB 305</p>\\n\\t\\t\\t\\t\\t<p class=\"fs_extra\">(501) 764-7694</p>\\n\\t\\t\\t\\t</div>\\n\\t\\t\\t\\t\\t\\t\\t<div class=\"fs_list\">\\n\\t\\t\\t\\t\\t<a href=\"http://uca.edu/mis/facultystaff/mellis/\">\\t\\t\\t\\t\\t<div class=\"fs_thumb_image\">\\n\\t\\t\\t\\t\\t<img width=\"210\" height=\"280\" src=\"http://uca.edu/mis/files/2015/02/mellis.jpg\" class=\"attachment-single-post-thumbnail size-single-post-thumbnail wp-post-image\" alt=\"Mike Ellis\" srcset=\"https://uca.edu/mis/files/2015/02/mellis.jpg 210w, https://uca.edu/mis/files/2015/02/mellis-105x140.jpg 105w\" sizes=\"(max-width: 210px) 100vw, 210px\" />\\t\\t\\t\\t\\t</div>\\t\\t\\t\\t\\t<p class=\"fs_fullName\">Mike Ellis</p>\\n\\t\\t\\t\\t\\t</a>\\t\\t\\t\\t\\t<p class=\"fs_title\">Assistant Professor of MIS</p>\\n\\t\\t\\t\\t\\t<p class=\"fs_email\"><a href=\\'mailto:mellis@uca.edu\\'>mellis@uca.edu</a></p>\\n\\t\\t\\t\\t\\t<p class=\"fs_extra\">COB 305E</p>\\n\\t\\t\\t\\t\\t<p class=\"fs_extra\">(501) 450-5322</p>\\n\\t\\t\\t\\t</div>\\n\\t\\t\\t\\t\\t\\t\\t<div class=\"fs_list\">\\n\\t\\t\\t\\t\\t<a href=\"http://uca.edu/mis/facultystaff/mesposito/\">\\t\\t\\t\\t\\t<div class=\"fs_thumb_image\">\\n\\t\\t\\t\\t\\t<img width=\"210\" height=\"280\" src=\"http://uca.edu/mis/files/2018/09/mesposito.jpg\" class=\"attachment-single-post-thumbnail size-single-post-thumbnail wp-post-image\" alt=\"\" srcset=\"https://uca.edu/mis/files/2018/09/mesposito.jpg 210w, https://uca.edu/mis/files/2018/09/mesposito-105x140.jpg 105w\" sizes=\"(max-width: 210px) 100vw, 210px\" />\\t\\t\\t\\t\\t</div>\\t\\t\\t\\t\\t<p class=\"fs_fullName\">Marie Esposito</p>\\n\\t\\t\\t\\t\\t</a>\\t\\t\\t\\t\\t<p class=\"fs_title\">Assistant Professor of MIS</p>\\n\\t\\t\\t\\t\\t<p class=\"fs_email\"><a href=\\'mailto:tesposito1@uca.edu\\'>tesposito1@uca.edu</a></p>\\n\\t\\t\\t\\t\\t<p class=\"fs_extra\">COB 305F</p>\\n\\t\\t\\t\\t\\t<p class=\"fs_extra\">(501) 450-5331</p>\\n\\t\\t\\t\\t</div>\\n\\t\\t\\t\\t\\t\\t\\t<div class=\"fs_list\">\\n\\t\\t\\t\\t\\t<a href=\"http://uca.edu/mis/facultystaff/kgriffin/\">\\t\\t\\t\\t\\t<div class=\"fs_thumb_image\">\\n\\t\\t\\t\\t\\t<img width=\"210\" height=\"280\" src=\"http://uca.edu/mis/files/2012/09/keng.jpg\" class=\"attachment-single-post-thumbnail size-single-post-thumbnail wp-post-image\" alt=\"Ken Griffin\" srcset=\"https://uca.edu/mis/files/2012/09/keng.jpg 210w, https://uca.edu/mis/files/2012/09/keng-105x140.jpg 105w\" sizes=\"(max-width: 210px) 100vw, 210px\" />\\t\\t\\t\\t\\t</div>\\t\\t\\t\\t\\t<p class=\"fs_fullName\">Ken Griffin, Associate Dean</p>\\n\\t\\t\\t\\t\\t</a>\\t\\t\\t\\t\\t<p class=\"fs_title\">Professor of MIS</p>\\n\\t\\t\\t\\t\\t<p class=\"fs_email\"><a href=\\'mailto:keng@uca.edu\\'>keng@uca.edu</a></p>\\n\\t\\t\\t\\t\\t<p class=\"fs_extra\">COB 102E</p>\\n\\t\\t\\t\\t\\t<p class=\"fs_extra\">(501) 852-0894</p>\\n\\t\\t\\t\\t</div>\\n\\t\\t\\t\\t\\t\\t\\t<div class=\"fs_list\">\\n\\t\\t\\t\\t\\t<a href=\"http://uca.edu/mis/facultystaff/ghill/\">\\t\\t\\t\\t\\t<div class=\"fs_thumb_image\">\\n\\t\\t\\t\\t\\t<img width=\"210\" height=\"280\" src=\"http://uca.edu/mis/files/2015/09/jhill.jpg\" class=\"attachment-single-post-thumbnail size-single-post-thumbnail wp-post-image\" alt=\"\" srcset=\"https://uca.edu/mis/files/2015/09/jhill.jpg 210w, https://uca.edu/mis/files/2015/09/jhill-105x140.jpg 105w\" sizes=\"(max-width: 210px) 100vw, 210px\" />\\t\\t\\t\\t\\t</div>\\t\\t\\t\\t\\t<p class=\"fs_fullName\">Geoffrey &#8220;Jeff&#8221; Hill</p>\\n\\t\\t\\t\\t\\t</a>\\t\\t\\t\\t\\t<p class=\"fs_title\">Assistant Professor</p>\\n\\t\\t\\t\\t\\t<p class=\"fs_email\"><a href=\\'mailto:ghill@uca.edu\\'>ghill@uca.edu</a></p>\\n\\t\\t\\t\\t\\t<p class=\"fs_extra\">COB 305P</p>\\n\\t\\t\\t\\t\\t<p class=\"fs_extra\">(501) 450-5347</p>\\n\\t\\t\\t\\t</div>\\n\\t\\t\\t\\t\\t\\t\\t<div class=\"fs_list\">\\n\\t\\t\\t\\t\\t<a href=\"http://uca.edu/mis/facultystaff/slin/\">\\t\\t\\t\\t\\t<div class=\"fs_thumb_image\">\\n\\t\\t\\t\\t\\t<img width=\"210\" height=\"280\" src=\"http://uca.edu/mis/files/2018/10/slin-210x280.jpg\" class=\"attachment-single-post-thumbnail size-single-post-thumbnail wp-post-image\" alt=\"\" srcset=\"https://uca.edu/mis/files/2018/10/slin-210x280.jpg 210w, https://uca.edu/mis/files/2018/10/slin.jpg 225w, https://uca.edu/mis/files/2018/10/slin-105x140.jpg 105w\" sizes=\"(max-width: 210px) 100vw, 210px\" />\\t\\t\\t\\t\\t</div>\\t\\t\\t\\t\\t<p class=\"fs_fullName\">Shuaifu Lin</p>\\n\\t\\t\\t\\t\\t</a>\\t\\t\\t\\t\\t<p class=\"fs_title\">Assistant Professor of MIS</p>\\n\\t\\t\\t\\t\\t<p class=\"fs_email\"><a href=\\'mailto:slin8@uca.edu\\'>slin8@uca.edu</a></p>\\n\\t\\t\\t\\t\\t<p class=\"fs_extra\">COB 305K</p>\\n\\t\\t\\t\\t\\t<p class=\"fs_extra\">(501) 450-5125</p>\\n\\t\\t\\t\\t</div>\\n\\t\\t\\t\\t\\t\\t\\t<div class=\"fs_list\">\\n\\t\\t\\t\\t\\t<a href=\"http://uca.edu/mis/facultystaff/kaye-mckinzie/\">\\t\\t\\t\\t\\t<div class=\"fs_thumb_image\">\\n\\t\\t\\t\\t\\t<img width=\"210\" height=\"280\" src=\"http://uca.edu/mis/files/2012/09/kmckinzie.jpg\" class=\"attachment-single-post-thumbnail size-single-post-thumbnail wp-post-image\" alt=\"Kaye McKinzie\" srcset=\"https://uca.edu/mis/files/2012/09/kmckinzie.jpg 210w, https://uca.edu/mis/files/2012/09/kmckinzie-105x140.jpg 105w\" sizes=\"(max-width: 210px) 100vw, 210px\" />\\t\\t\\t\\t\\t</div>\\t\\t\\t\\t\\t<p class=\"fs_fullName\">Kaye McKinzie</p>\\n\\t\\t\\t\\t\\t</a>\\t\\t\\t\\t\\t<p class=\"fs_title\">Associate Professor of MIS</p>\\n\\t\\t\\t\\t\\t<p class=\"fs_email\"><a href=\\'mailto:kmckinzie@uca.edu\\'>kmckinzie@uca.edu</a></p>\\n\\t\\t\\t\\t\\t<p class=\"fs_extra\">COB 305C</p>\\n\\t\\t\\t\\t\\t<p class=\"fs_extra\">(501) 450-5328</p>\\n\\t\\t\\t\\t</div>\\n\\t\\t\\t\\t\\t\\t\\t<div class=\"fs_list\">\\n\\t\\t\\t\\t\\t<a href=\"http://uca.edu/mis/facultystaff/mcmurtrey/\">\\t\\t\\t\\t\\t<div class=\"fs_thumb_image\">\\n\\t\\t\\t\\t\\t<img width=\"210\" height=\"280\" src=\"http://uca.edu/mis/files/2012/09/markmc.jpg\" class=\"attachment-single-post-thumbnail size-single-post-thumbnail wp-post-image\" alt=\"Mark McMurtrey\" srcset=\"https://uca.edu/mis/files/2012/09/markmc.jpg 210w, https://uca.edu/mis/files/2012/09/markmc-105x140.jpg 105w\" sizes=\"(max-width: 210px) 100vw, 210px\" />\\t\\t\\t\\t\\t</div>\\t\\t\\t\\t\\t<p class=\"fs_fullName\">Mark McMurtrey, MBA Director</p>\\n\\t\\t\\t\\t\\t</a>\\t\\t\\t\\t\\t<p class=\"fs_title\">Professor of MIS</p>\\n\\t\\t\\t\\t\\t<p class=\"fs_email\"><a href=\\'mailto:markmc@uca.edu\\'>markmc@uca.edu</a></p>\\n\\t\\t\\t\\t\\t<p class=\"fs_extra\">COB 102H</p>\\n\\t\\t\\t\\t\\t<p class=\"fs_extra\">(501) 450-5308</p>\\n\\t\\t\\t\\t</div>\\n\\t\\t\\t\\t\\t\\t\\t<div class=\"fs_list\">\\n\\t\\t\\t\\t\\t<a href=\"http://uca.edu/mis/facultystaff/sshaw/\">\\t\\t\\t\\t\\t<div class=\"fs_thumb_image\">\\n\\t\\t\\t\\t\\t<img width=\"210\" height=\"280\" src=\"http://uca.edu/mis/files/2018/05/sshaw.jpg\" class=\"attachment-single-post-thumbnail size-single-post-thumbnail wp-post-image\" alt=\"\" srcset=\"https://uca.edu/mis/files/2018/05/sshaw.jpg 210w, https://uca.edu/mis/files/2018/05/sshaw-105x140.jpg 105w\" sizes=\"(max-width: 210px) 100vw, 210px\" />\\t\\t\\t\\t\\t</div>\\t\\t\\t\\t\\t<p class=\"fs_fullName\">Susan Shaw</p>\\n\\t\\t\\t\\t\\t</a>\\t\\t\\t\\t\\t<p class=\"fs_title\">Lecturer I of MIS</p>\\n\\t\\t\\t\\t\\t<p class=\"fs_email\"><a href=\\'mailto:sshaw13@uca.edu\\'>sshaw13@uca.edu</a></p>\\n\\t\\t\\t\\t\\t<p class=\"fs_extra\">COB 305B</p>\\n\\t\\t\\t\\t\\t<p class=\"fs_extra\">(501) 450-3420</p>\\n\\t\\t\\t\\t</div>\\n\\t\\t\\t\\t\\t\\t\\t<div class=\"fs_list\">\\n\\t\\t\\t\\t\\t<a href=\"http://uca.edu/mis/facultystaff/jthomas/\">\\t\\t\\t\\t\\t<div class=\"fs_thumb_image\">\\n\\t\\t\\t\\t\\t<img width=\"210\" height=\"280\" src=\"http://uca.edu/mis/files/2017/07/jthomas.jpg\" class=\"attachment-single-post-thumbnail size-single-post-thumbnail wp-post-image\" alt=\"\" srcset=\"https://uca.edu/mis/files/2017/07/jthomas.jpg 210w, https://uca.edu/mis/files/2017/07/jthomas-105x140.jpg 105w\" sizes=\"(max-width: 210px) 100vw, 210px\" />\\t\\t\\t\\t\\t</div>\\t\\t\\t\\t\\t<p class=\"fs_fullName\">Joe Thomas</p>\\n\\t\\t\\t\\t\\t</a>\\t\\t\\t\\t\\t<p class=\"fs_title\">Assistant Professor of MIS</p>\\n\\t\\t\\t\\t\\t<p class=\"fs_email\"><a href=\\'mailto:joethomas@uca.edu\\'>joethomas@uca.edu</a></p>\\n\\t\\t\\t\\t\\t<p class=\"fs_extra\">COB 305O</p>\\n\\t\\t\\t\\t\\t<p class=\"fs_extra\">(501) 450-5316</p>\\n\\t\\t\\t\\t</div>\\n\\t\\t\\t\\t\\t\\t\\t<div class=\"fs_list\">\\n\\t\\t\\t\\t\\t<a href=\"http://uca.edu/mis/facultystaff/s-zeltmann/\">\\t\\t\\t\\t\\t<div class=\"fs_thumb_image\">\\n\\t\\t\\t\\t\\t<img width=\"210\" height=\"280\" src=\"http://uca.edu/mis/files/2012/09/stevenz.jpg\" class=\"attachment-single-post-thumbnail size-single-post-thumbnail wp-post-image\" alt=\"Steven Zeltmann\" srcset=\"https://uca.edu/mis/files/2012/09/stevenz.jpg 210w, https://uca.edu/mis/files/2012/09/stevenz-105x140.jpg 105w\" sizes=\"(max-width: 210px) 100vw, 210px\" />\\t\\t\\t\\t\\t</div>\\t\\t\\t\\t\\t<p class=\"fs_fullName\">Steve Zeltmann</p>\\n\\t\\t\\t\\t\\t</a>\\t\\t\\t\\t\\t<p class=\"fs_title\">Professor of MIS</p>\\n\\t\\t\\t\\t\\t<p class=\"fs_email\"><a href=\\'mailto:stevenz@uca.edu\\'>stevenz@uca.edu</a></p>\\n\\t\\t\\t\\t\\t<p class=\"fs_extra\">COB 305N</p>\\n\\t\\t\\t\\t\\t<p class=\"fs_extra\">(501) 450-5326</p>\\n\\t\\t\\t\\t</div>\\n\\t\\t\\t\\n\\t\\t\\t</div><!-- end entry-content -->\\n\\t\\t</div><!-- end page-->\\n\\n\\t</div><!-- end #content -->\\n\\t\\n</div><!-- end #content-sidebar-wrap -->\\n\\n</div></div><div id=\"footer\" class=\"footer\"><div class=\"wrap\"><div class=\"creds\"><p><a href=\"http://uca.edu/go/avid/\">UCA dedicates itself to academic vitality, integrity, and diversity.</a><br />University of Central Arkansas &middot; 201 Donaghey Ave., Conway, AR 72035 &middot; (501) 450-5000<br />UCA is <a href=\"http://uca.edu/accreditation/\">accredited</a> by the <a href=\"http://hlcommission.org/\">Higher Learning Commission</a>.<br />Copyright &copy; 2018 &middot; All Rights Reserved</p></div><div class=\"gototop\"><p><a href=\"#wrap\" rel=\"nofollow\">Return to Top</a></p></div></div></div></div><script type=\\'text/javascript\\' src=\\'http://uca.edu/mis/wp-content/themes/ursidae/js/scroll.js?ver=1.1\\'></script>\\n<script type=\\'text/javascript\\' src=\\'http://uca.edu/mis/wp-content/themes/ursidae/js/custom.js?ver=2\\'></script>\\n<script type=\\'text/javascript\\' src=\\'http://uca.edu/mis/wp-content/themes/ursidae/js/respond.min.js?ver=1\\'></script>\\n<script type=\\'text/javascript\\' src=\\'http://uca.edu/mis/wp-content/themes/ursidae/js/meanmenu/jquery.meanmenu.js?ver=1\\'></script>\\n<script type=\\'text/javascript\\' src=\\'http://uca.edu/mis/wp-includes/js/wp-embed.min.js?ver=4.9.1\\'></script>\\n<!--stats_footer_test--></body></html>\\n'\n"
     ]
    }
   ],
   "source": [
    "mis_page = urlopen(\"http://uca.edu/mis/facultystaff/\").read()\n",
    "print(mis_page)"
   ]
  },
  {
   "cell_type": "markdown",
   "metadata": {},
   "source": [
    "### Make sense of the contents\n",
    "That is interesting but not very useful. We need another tool to help us make sense of the pages we read and that allows us to extract the contents. We could write the code to do that, but there is a popular library called Beautiful Soup that can do it for us.\n",
    "\n",
    "Beautiful Soup is not part of standard Python but it is included in the Anaconda distribution. We just need to import it into our code to use it.\n",
    "\n",
    "Let's take a look at the documentation for Beautiful Soup:  https://www.crummy.com/software/BeautifulSoup/\n"
   ]
  },
  {
   "cell_type": "code",
   "execution_count": null,
   "metadata": {},
   "outputs": [],
   "source": [
    "# Bring the BS functionality into our program.\n",
    "from bs4 import BeautifulSoup"
   ]
  },
  {
   "cell_type": "markdown",
   "metadata": {},
   "source": [
    "We have to specify a parser when we use BS. We will use the `lxml` parser recommended in the BS documentation. The call to BeautifulSoup will return a BeautifulSoup object, which contains the entire parsed Web page. We can access different parts of the parsed page by referring to HTML tag names. In the example below, we print only the \"h1\" tagged items from the previously read page."
   ]
  },
  {
   "cell_type": "code",
   "execution_count": null,
   "metadata": {
    "scrolled": true
   },
   "outputs": [],
   "source": [
    "bsObj = BeautifulSoup(html, \"lxml\")\n",
    "print(bsObj.h1)"
   ]
  },
  {
   "cell_type": "code",
   "execution_count": null,
   "metadata": {},
   "outputs": [],
   "source": [
    "# Turn the Beautiful Soup object into a formatted tree for \"pretty printing\"\n",
    "# It makes the results easier to read.\n",
    "print(bsObj.prettify())\n"
   ]
  },
  {
   "cell_type": "code",
   "execution_count": null,
   "metadata": {
    "scrolled": true
   },
   "outputs": [],
   "source": [
    "# We can use the findAll method to get every tag that lists faculty thumbnail pictures.\n",
    "# Adding the prettify() method makes it a little easier to read.\n",
    "bsObj2 = BeautifulSoup(mis_page, \"lxml\")\n",
    "pic_list = bsObj2.findAll(\"div\", {\"class\":\"fs_thumb_image\"})\n",
    "\n",
    "for name in pic_list:\n",
    "    print(name.prettify())\n",
    "    #print()"
   ]
  },
  {
   "cell_type": "code",
   "execution_count": null,
   "metadata": {},
   "outputs": [],
   "source": [
    "# Print the first link tag contents.\n",
    "print(bsObj2.link.prettify())"
   ]
  },
  {
   "cell_type": "code",
   "execution_count": null,
   "metadata": {
    "scrolled": true
   },
   "outputs": [],
   "source": [
    "# everything on the MIS F&S page with an image tag\n",
    "src_list = bsObj2.findAll(\"img\")\n",
    "for name in src_list:\n",
    "    print(name.prettify())"
   ]
  },
  {
   "cell_type": "markdown",
   "metadata": {},
   "source": [
    "### Example: Yahoo Finance\n",
    "Go to finance.yahoo.com and search for stock data on a publicly traded company.\n",
    "\n",
    "Look at the way the data is structured. Look at the underlying HTML code.\n",
    "\n",
    "Python's `json` library turns JSON objects into dictionaries.\n",
    "\n",
    "JSON = JavaScript Object Notation.  https://www.json.org/\n",
    "\n",
    "JSON has become one of the standard ways data is represented on the Internet. Thakns to the tools we have available to us, we don't need to be JSON experts to make use of it. The Python `json` library puts a great deal of functionality at our fingertips. This example makes use of that functionality.\n",
    "\n",
    "Let's look at the code before each of us runs it with a different stock ticker symbol."
   ]
  },
  {
   "cell_type": "code",
   "execution_count": 5,
   "metadata": {},
   "outputs": [
    {
     "name": "stdout",
     "output_type": "stream",
     "text": [
      "Fetching data for T\n",
      "Parsing http://finance.yahoo.com/quote/T?p=T\n",
      "Writing data to output file\n"
     ]
    }
   ],
   "source": [
    "# Example: scraping company stock data from Yahoo Finance\n",
    "# Source for original code: https://www.scrapehero.com/scrape-yahoo-finance-stock-market-data/\n",
    "from lxml import html  \n",
    "import requests\n",
    "from time import sleep\n",
    "import json\n",
    "from collections import OrderedDict\n",
    "from time import sleep\n",
    "\n",
    "def parse(ticker):\n",
    "    url = \"http://finance.yahoo.com/quote/%s?p=%s\"%(ticker,ticker)\n",
    "    #response = requests.get(url, verify=False)\n",
    "    response = requests.get(url, verify=True)    \n",
    "    print (\"Parsing %s\"%(url))\n",
    "    sleep(4)\n",
    "    parser = html.fromstring(response.text)\n",
    "    summary_table = parser.xpath('//div[contains(@data-test,\"summary-table\")]//tr')\n",
    "    summary_data = OrderedDict()\n",
    "    other_details_json_link = \"https://query2.finance.yahoo.com/v10/finance/quoteSummary/{0}?formatted=true&lang=en-US&region=US&modules=summaryProfile%2CfinancialData%2CrecommendationTrend%2CupgradeDowngradeHistory%2Cearnings%2CdefaultKeyStatistics%2CcalendarEvents&corsDomain=finance.yahoo.com\".format(ticker)\n",
    "    summary_json_response = requests.get(other_details_json_link)\n",
    "    try:\n",
    "        json_loaded_summary =  json.loads(summary_json_response.text)\n",
    "        y_Target_Est = json_loaded_summary[\"quoteSummary\"][\"result\"][0][\"financialData\"][\"targetMeanPrice\"]['raw']\n",
    "        earnings_list = json_loaded_summary[\"quoteSummary\"][\"result\"][0][\"calendarEvents\"]['earnings']\n",
    "        eps = json_loaded_summary[\"quoteSummary\"][\"result\"][0][\"defaultKeyStatistics\"][\"trailingEps\"]['raw']\n",
    "        datelist = []\n",
    "        for i in earnings_list['earningsDate']:\n",
    "            datelist.append(i['fmt'])\n",
    "        earnings_date = ' to '.join(datelist)\n",
    "        for table_data in summary_table:\n",
    "            raw_table_key = table_data.xpath('.//td[contains(@class,\"C(black)\")]//text()')\n",
    "            raw_table_value = table_data.xpath('.//td[contains(@class,\"Ta(end)\")]//text()')\n",
    "            table_key = ''.join(raw_table_key).strip()\n",
    "            table_value = ''.join(raw_table_value).strip()\n",
    "            summary_data.update({table_key:table_value})\n",
    "        summary_data.update({'1y Target Est':y_Target_Est,'EPS (TTM)':eps,'Earnings Date':earnings_date,'ticker':ticker,'url':url})\n",
    "        return summary_data\n",
    "    except:\n",
    "        print (\"Failed to parse json response\")\n",
    "        return {\"error\":\"Failed to parse json response\"}\n",
    "\n",
    "if __name__==\"__main__\":\n",
    "    # THIS IS WHERE YOU ENTER THE TICKER SYMBOL YOU WANT TO FIND *************\n",
    "    ticker = 'T'\n",
    "    # ************************************************************************\n",
    "    \n",
    "    print (\"Fetching data for %s\"%(ticker))\n",
    "    scraped_data = parse(ticker)\n",
    "    print (\"Writing data to output file\")\n",
    "    with open('%s-summary.json'%(ticker),'w') as fp:\n",
    "        json.dump(scraped_data,fp,indent = 4)"
   ]
  },
  {
   "cell_type": "markdown",
   "metadata": {},
   "source": [
    "## APIs\n",
    "APIs are application programming interfaces. They provide a structured way the owner of a Web site has provided to allow access to data on their site. Data is typically returned to the requesting programmer in XML or JSON format. JSON is quickly becoming the default encoding protocol for two reasons.\n",
    "1. JSON files are usually smaller than XML files.\n",
    "2. Newer server-side technologies find JSON easier to use.\n",
    "\n",
    "APIs use the HTTP protocol just like regular websites. What makes them different is that they follow a very standardized syntax and return data in JSON or XML instead of HTML.\n",
    "\n",
    "If you decide to explore APIs, be sure to read the documentation of every API you use. While the rules surrounding APIs are very standardized, indiviual APIs may have its own quirks."
   ]
  },
  {
   "cell_type": "markdown",
   "metadata": {},
   "source": [
    "## Methods\n",
    "APIs make use of four methods to request data from a web server using the HTTP protocol:\n",
    "- GET\n",
    "    - This is the method you use when you make a call through the address bar in the browser.\n",
    "    - A request for information.\n",
    "- POST\n",
    "    - Used when you submit info or fill out a form online.\n",
    "    - Use it to login, with username and password.\n",
    "    - A request to store info on the server database.\n",
    "- PUT\n",
    "    - Not as common with websites but may be used with an API.\n",
    "    - It is an update request.\n",
    "- DELETE\n",
    "    - Deletes info from the database.\n",
    "    - For obvious reasons it is not often available through public APIs."
   ]
  },
  {
   "cell_type": "markdown",
   "metadata": {},
   "source": [
    "## Authentication\n",
    "Some APIs don't require authentication. That means anybody can make a call to the API for free and without registering. The requirement for at least registering with the API before you are allowed to access it is become increasingly common. Authentication generally relies on a _token_ to identify the registered user making the API call. The token is a character string that is typically added to the request code.\n",
    "\n",
    "Of course most of the more interesting APIs require you to register and use a token in order to access any of their data."
   ]
  },
  {
   "cell_type": "code",
   "execution_count": null,
   "metadata": {},
   "outputs": [],
   "source": []
  },
  {
   "cell_type": "markdown",
   "metadata": {},
   "source": [
    "Example: Google APIs\n",
    "https://developers.google.com/products/\n",
    "\n",
    "Look at Analytics, Maps, GMail"
   ]
  },
  {
   "cell_type": "code",
   "execution_count": null,
   "metadata": {},
   "outputs": [],
   "source": []
  }
 ],
 "metadata": {
  "kernelspec": {
   "display_name": "Python 3",
   "language": "python",
   "name": "python3"
  },
  "language_info": {
   "codemirror_mode": {
    "name": "ipython",
    "version": 3
   },
   "file_extension": ".py",
   "mimetype": "text/x-python",
   "name": "python",
   "nbconvert_exporter": "python",
   "pygments_lexer": "ipython3",
   "version": "3.6.5"
  }
 },
 "nbformat": 4,
 "nbformat_minor": 2
}
